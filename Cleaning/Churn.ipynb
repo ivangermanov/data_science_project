{
 "cells": [
  {
   "cell_type": "code",
   "execution_count": 1,
   "metadata": {},
   "outputs": [],
   "source": [
    "import numpy as np\n",
    "import pandas as pd\n",
    "import datetime as dt"
   ]
  },
  {
   "cell_type": "code",
   "execution_count": 2,
   "metadata": {},
   "outputs": [],
   "source": [
    "orders_path = '../orders_edited.csv'\n",
    "df_orders = pd.read_csv(orders_path,\n",
    "                        #parse_dates=['DoB', 'Order date'],\n",
    "                        dtype=\n",
    "                        {'Customer number': object,\n",
    "                         'Gender': object,\n",
    "                         'PoR': object,\n",
    "                         'Order number': object,\n",
    "                         'Product number': object,\n",
    "                         'Sub category': 'category',\n",
    "                         'Category': 'category',\n",
    "                         'Count': np.int16,\n",
    "                         'Price': np.float64,\n",
    "                         'EDT': np.int16,\n",
    "                         'ADT': np.int16,\n",
    "                         'RoR': object,\n",
    "                         'Rating': np.int8})"
   ]
  },
  {
   "cell_type": "code",
   "execution_count": 3,
   "metadata": {},
   "outputs": [],
   "source": [
    "df_orders[\"Order date\"] = pd.to_datetime(df_orders[\"Order date\"], format=\"%d-%m-%Y\")"
   ]
  },
  {
   "cell_type": "code",
   "execution_count": 4,
   "metadata": {},
   "outputs": [],
   "source": [
    "def calculate_mean(customer_number, dates):\n",
    "    days = np.empty(len(dates))\n",
    "    for i, date in enumerate(dates):\n",
    "        if i < len(dates) - 1:\n",
    "            days[i] = ((dates[i + 1] - dates[i]).astype('timedelta64[D]').astype(int))\n",
    "    \n",
    "    return round(days.mean())"
   ]
  },
  {
   "cell_type": "code",
   "execution_count": 5,
   "metadata": {},
   "outputs": [],
   "source": [
    "df_orders_per_customer = df_orders[['Customer number', 'Order number', 'Order date']].copy()\n",
    "df_orders_per_customer = df_orders_per_customer.sort_values(['Customer number', 'Order date'])"
   ]
  },
  {
   "cell_type": "code",
   "execution_count": 6,
   "metadata": {},
   "outputs": [],
   "source": [
    "df_orders_per_customer = df_orders_per_customer.drop_duplicates('Order number')"
   ]
  },
  {
   "cell_type": "code",
   "execution_count": 7,
   "metadata": {},
   "outputs": [],
   "source": [
    "customer_dates = {}\n",
    "sample = df_orders_per_customer.head(200)\n",
    "\n",
    "for customer_no in sample['Customer number'].unique():\n",
    "    customer_dates[customer_no] = sample[sample['Customer number'] == customer_no]['Order date'].values"
   ]
  },
  {
   "cell_type": "code",
   "execution_count": 8,
   "metadata": {},
   "outputs": [
    {
     "name": "stdout",
     "output_type": "stream",
     "text": [
      "{'1004532': 0, '1004533': 0, '1004534': 1, '1004535': 0, '1004536': 0, '1004537': 0, '1004538': 1, '1004539': 0, '1004540': 1, '1004541': 1}\n"
     ]
    }
   ],
   "source": [
    "customer_churn = {}\n",
    "\n",
    "for key, value in customer_dates.items():\n",
    "    if (df_orders_per_customer['Order date'].iloc[-1] - customer_dates[key][-1]).days > calculate_mean(key, value):\n",
    "        customer_churn[key] = 1\n",
    "    else:\n",
    "        customer_churn[key] = 0\n",
    "        \n",
    "print(customer_churn)"
   ]
  }
 ],
 "metadata": {
  "kernelspec": {
   "display_name": "Python 3",
   "language": "python",
   "name": "python3"
  },
  "language_info": {
   "codemirror_mode": {
    "name": "ipython",
    "version": 3
   },
   "file_extension": ".py",
   "mimetype": "text/x-python",
   "name": "python",
   "nbconvert_exporter": "python",
   "pygments_lexer": "ipython3",
   "version": "3.6.5"
  }
 },
 "nbformat": 4,
 "nbformat_minor": 2
}
