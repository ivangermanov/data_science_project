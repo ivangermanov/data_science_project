{
 "cells": [
  {
   "cell_type": "markdown",
   "metadata": {},
   "source": [
    "# Determine the age groups of the customers"
   ]
  },
  {
   "cell_type": "markdown",
   "metadata": {},
   "source": [
    "## Include needed libraries"
   ]
  },
  {
   "cell_type": "code",
   "execution_count": 1,
   "metadata": {},
   "outputs": [],
   "source": [
    "import numpy as np\n",
    "import pandas as pd\n",
    "import datetime as DT\n",
    "from matplotlib import pyplot as plt\n",
    "%matplotlib inline"
   ]
  },
  {
   "cell_type": "markdown",
   "metadata": {},
   "source": [
    "## Import the dataset as csv\n",
    "\n",
    "Dob - date of birth;\n",
    "\n",
    "PoR - customer place of residence;\n",
    "\n",
    "EDT - expected delivery time;\n",
    "\n",
    "ADT - actual delivery time;\n",
    "\n",
    "RoR - reason of return;"
   ]
  },
  {
   "cell_type": "code",
   "execution_count": 2,
   "metadata": {},
   "outputs": [],
   "source": [
    "orders_path = 'orders_edited.csv'"
   ]
  },
  {
   "cell_type": "code",
   "execution_count": 3,
   "metadata": {},
   "outputs": [],
   "source": [
    "df_orders = pd.read_csv(orders_path,\n",
    "                        #parse_dates=['DoB', 'Order date'],\n",
    "                        dtype=\n",
    "                        {'Customer number': np.int64,\n",
    "                         'Gender': object,\n",
    "                         'PoR': object,\n",
    "                         'Order number': np.int64,\n",
    "                         'Product number': object,\n",
    "                         'Sub category': object,\n",
    "                         'Category': object,\n",
    "                         'Count': np.int16,\n",
    "                         'Price': np.float64,\n",
    "                         'EDT': np.int16,\n",
    "                         'ADT': np.int16,\n",
    "                         'RoR': object,\n",
    "                         'Rating': np.int8})"
   ]
  },
  {
   "cell_type": "code",
   "execution_count": 4,
   "metadata": {},
   "outputs": [
    {
     "data": {
      "text/html": [
       "<div>\n",
       "<style scoped>\n",
       "    .dataframe tbody tr th:only-of-type {\n",
       "        vertical-align: middle;\n",
       "    }\n",
       "\n",
       "    .dataframe tbody tr th {\n",
       "        vertical-align: top;\n",
       "    }\n",
       "\n",
       "    .dataframe thead th {\n",
       "        text-align: right;\n",
       "    }\n",
       "</style>\n",
       "<table border=\"1\" class=\"dataframe\">\n",
       "  <thead>\n",
       "    <tr style=\"text-align: right;\">\n",
       "      <th></th>\n",
       "      <th>Customer number</th>\n",
       "      <th>DoB</th>\n",
       "      <th>Gender</th>\n",
       "      <th>PoR</th>\n",
       "      <th>Order number</th>\n",
       "      <th>Order date</th>\n",
       "      <th>Product number</th>\n",
       "      <th>Sub category</th>\n",
       "      <th>Category</th>\n",
       "      <th>Count</th>\n",
       "      <th>Price</th>\n",
       "      <th>EDT</th>\n",
       "      <th>ADT</th>\n",
       "      <th>RoR</th>\n",
       "      <th>Rating</th>\n",
       "    </tr>\n",
       "  </thead>\n",
       "  <tbody>\n",
       "    <tr>\n",
       "      <th>0</th>\n",
       "      <td>1063418</td>\n",
       "      <td>15-01-1944</td>\n",
       "      <td>Woman</td>\n",
       "      <td>Bloemendaal</td>\n",
       "      <td>1251137</td>\n",
       "      <td>20-12-2014</td>\n",
       "      <td>5146308036084</td>\n",
       "      <td>Garden chairs</td>\n",
       "      <td>Garden furniture</td>\n",
       "      <td>1</td>\n",
       "      <td>1090.82</td>\n",
       "      <td>2</td>\n",
       "      <td>2</td>\n",
       "      <td>NaN</td>\n",
       "      <td>-1</td>\n",
       "    </tr>\n",
       "    <tr>\n",
       "      <th>1</th>\n",
       "      <td>1062078</td>\n",
       "      <td>17-01-1934</td>\n",
       "      <td>Man</td>\n",
       "      <td>De Bilt</td>\n",
       "      <td>1658762</td>\n",
       "      <td>03-11-2017</td>\n",
       "      <td>8119187109467</td>\n",
       "      <td>Torches</td>\n",
       "      <td>Garden heating</td>\n",
       "      <td>6</td>\n",
       "      <td>385.92</td>\n",
       "      <td>4</td>\n",
       "      <td>4</td>\n",
       "      <td>NaN</td>\n",
       "      <td>-1</td>\n",
       "    </tr>\n",
       "    <tr>\n",
       "      <th>2</th>\n",
       "      <td>1007060</td>\n",
       "      <td>14-01-1947</td>\n",
       "      <td>Man</td>\n",
       "      <td>Doetinchem</td>\n",
       "      <td>106526</td>\n",
       "      <td>08-06-2013</td>\n",
       "      <td>6110364066490</td>\n",
       "      <td>Leaf blowers</td>\n",
       "      <td>Garden reamers</td>\n",
       "      <td>2</td>\n",
       "      <td>173.78</td>\n",
       "      <td>3</td>\n",
       "      <td>-1</td>\n",
       "      <td>No reason given</td>\n",
       "      <td>-1</td>\n",
       "    </tr>\n",
       "    <tr>\n",
       "      <th>3</th>\n",
       "      <td>1063418</td>\n",
       "      <td>15-01-1944</td>\n",
       "      <td>Woman</td>\n",
       "      <td>Bloemendaal</td>\n",
       "      <td>1251137</td>\n",
       "      <td>20-12-2014</td>\n",
       "      <td>8172375031575</td>\n",
       "      <td>Hoes</td>\n",
       "      <td>Garden hand tools</td>\n",
       "      <td>4</td>\n",
       "      <td>45.64</td>\n",
       "      <td>5</td>\n",
       "      <td>-1</td>\n",
       "      <td>Article is defect</td>\n",
       "      <td>-1</td>\n",
       "    </tr>\n",
       "    <tr>\n",
       "      <th>4</th>\n",
       "      <td>1063290</td>\n",
       "      <td>08-01-1971</td>\n",
       "      <td>Woman</td>\n",
       "      <td>Franekeradeel</td>\n",
       "      <td>439149</td>\n",
       "      <td>06-01-2015</td>\n",
       "      <td>8111132296154</td>\n",
       "      <td>Insects and vermin</td>\n",
       "      <td>Control</td>\n",
       "      <td>1</td>\n",
       "      <td>114.24</td>\n",
       "      <td>1</td>\n",
       "      <td>1</td>\n",
       "      <td>NaN</td>\n",
       "      <td>-1</td>\n",
       "    </tr>\n",
       "  </tbody>\n",
       "</table>\n",
       "</div>"
      ],
      "text/plain": [
       "   Customer number         DoB Gender            PoR  Order number  \\\n",
       "0          1063418  15-01-1944  Woman    Bloemendaal       1251137   \n",
       "1          1062078  17-01-1934    Man        De Bilt       1658762   \n",
       "2          1007060  14-01-1947    Man     Doetinchem        106526   \n",
       "3          1063418  15-01-1944  Woman    Bloemendaal       1251137   \n",
       "4          1063290  08-01-1971  Woman  Franekeradeel        439149   \n",
       "\n",
       "   Order date Product number        Sub category           Category  Count  \\\n",
       "0  20-12-2014  5146308036084       Garden chairs   Garden furniture      1   \n",
       "1  03-11-2017  8119187109467             Torches     Garden heating      6   \n",
       "2  08-06-2013  6110364066490        Leaf blowers     Garden reamers      2   \n",
       "3  20-12-2014  8172375031575                Hoes  Garden hand tools      4   \n",
       "4  06-01-2015  8111132296154  Insects and vermin            Control      1   \n",
       "\n",
       "     Price  EDT  ADT                RoR  Rating  \n",
       "0  1090.82    2    2                NaN      -1  \n",
       "1   385.92    4    4                NaN      -1  \n",
       "2   173.78    3   -1    No reason given      -1  \n",
       "3    45.64    5   -1  Article is defect      -1  \n",
       "4   114.24    1    1                NaN      -1  "
      ]
     },
     "execution_count": 4,
     "metadata": {},
     "output_type": "execute_result"
    }
   ],
   "source": [
    "df_orders.head(5)"
   ]
  },
  {
   "cell_type": "code",
   "execution_count": 5,
   "metadata": {},
   "outputs": [
    {
     "data": {
      "text/plain": [
       "Customer number      int64\n",
       "DoB                 object\n",
       "Gender              object\n",
       "PoR                 object\n",
       "Order number         int64\n",
       "Order date          object\n",
       "Product number      object\n",
       "Sub category        object\n",
       "Category            object\n",
       "Count                int16\n",
       "Price              float64\n",
       "EDT                  int16\n",
       "ADT                  int16\n",
       "RoR                 object\n",
       "Rating                int8\n",
       "dtype: object"
      ]
     },
     "execution_count": 5,
     "metadata": {},
     "output_type": "execute_result"
    }
   ],
   "source": [
    "df_orders.dtypes"
   ]
  },
  {
   "cell_type": "markdown",
   "metadata": {},
   "source": [
    "## Transform DoB dateString to datetime"
   ]
  },
  {
   "cell_type": "code",
   "execution_count": 6,
   "metadata": {},
   "outputs": [],
   "source": [
    "now = pd.Timestamp(DT.datetime.now())\n",
    "df_orders['DoB'] = pd.to_datetime(df_orders['DoB'], format=\"%d-%m-%Y\")"
   ]
  },
  {
   "cell_type": "markdown",
   "metadata": {},
   "source": [
    "## Calculate age"
   ]
  },
  {
   "cell_type": "code",
   "execution_count": 7,
   "metadata": {},
   "outputs": [],
   "source": [
    "df_orders['DoB'] = df_orders['DoB'].where(df_orders['DoB'] < now, df_orders['DoB'] -  np.timedelta64(100, 'Y'))\n",
    "df_orders['Age'] = (now - df_orders['DoB']).astype('<m8[Y]')"
   ]
  },
  {
   "cell_type": "code",
   "execution_count": 8,
   "metadata": {},
   "outputs": [
    {
     "data": {
      "text/html": [
       "<div>\n",
       "<style scoped>\n",
       "    .dataframe tbody tr th:only-of-type {\n",
       "        vertical-align: middle;\n",
       "    }\n",
       "\n",
       "    .dataframe tbody tr th {\n",
       "        vertical-align: top;\n",
       "    }\n",
       "\n",
       "    .dataframe thead th {\n",
       "        text-align: right;\n",
       "    }\n",
       "</style>\n",
       "<table border=\"1\" class=\"dataframe\">\n",
       "  <thead>\n",
       "    <tr style=\"text-align: right;\">\n",
       "      <th></th>\n",
       "      <th>Customer number</th>\n",
       "      <th>DoB</th>\n",
       "      <th>Gender</th>\n",
       "      <th>PoR</th>\n",
       "      <th>Order number</th>\n",
       "      <th>Order date</th>\n",
       "      <th>Product number</th>\n",
       "      <th>Sub category</th>\n",
       "      <th>Category</th>\n",
       "      <th>Count</th>\n",
       "      <th>Price</th>\n",
       "      <th>EDT</th>\n",
       "      <th>ADT</th>\n",
       "      <th>RoR</th>\n",
       "      <th>Rating</th>\n",
       "      <th>Age</th>\n",
       "    </tr>\n",
       "  </thead>\n",
       "  <tbody>\n",
       "    <tr>\n",
       "      <th>0</th>\n",
       "      <td>1063418</td>\n",
       "      <td>1944-01-15</td>\n",
       "      <td>Woman</td>\n",
       "      <td>Bloemendaal</td>\n",
       "      <td>1251137</td>\n",
       "      <td>20-12-2014</td>\n",
       "      <td>5146308036084</td>\n",
       "      <td>Garden chairs</td>\n",
       "      <td>Garden furniture</td>\n",
       "      <td>1</td>\n",
       "      <td>1090.82</td>\n",
       "      <td>2</td>\n",
       "      <td>2</td>\n",
       "      <td>NaN</td>\n",
       "      <td>-1</td>\n",
       "      <td>74.0</td>\n",
       "    </tr>\n",
       "    <tr>\n",
       "      <th>1</th>\n",
       "      <td>1062078</td>\n",
       "      <td>1934-01-17</td>\n",
       "      <td>Man</td>\n",
       "      <td>De Bilt</td>\n",
       "      <td>1658762</td>\n",
       "      <td>03-11-2017</td>\n",
       "      <td>8119187109467</td>\n",
       "      <td>Torches</td>\n",
       "      <td>Garden heating</td>\n",
       "      <td>6</td>\n",
       "      <td>385.92</td>\n",
       "      <td>4</td>\n",
       "      <td>4</td>\n",
       "      <td>NaN</td>\n",
       "      <td>-1</td>\n",
       "      <td>84.0</td>\n",
       "    </tr>\n",
       "    <tr>\n",
       "      <th>2</th>\n",
       "      <td>1007060</td>\n",
       "      <td>1947-01-14</td>\n",
       "      <td>Man</td>\n",
       "      <td>Doetinchem</td>\n",
       "      <td>106526</td>\n",
       "      <td>08-06-2013</td>\n",
       "      <td>6110364066490</td>\n",
       "      <td>Leaf blowers</td>\n",
       "      <td>Garden reamers</td>\n",
       "      <td>2</td>\n",
       "      <td>173.78</td>\n",
       "      <td>3</td>\n",
       "      <td>-1</td>\n",
       "      <td>No reason given</td>\n",
       "      <td>-1</td>\n",
       "      <td>71.0</td>\n",
       "    </tr>\n",
       "    <tr>\n",
       "      <th>3</th>\n",
       "      <td>1063418</td>\n",
       "      <td>1944-01-15</td>\n",
       "      <td>Woman</td>\n",
       "      <td>Bloemendaal</td>\n",
       "      <td>1251137</td>\n",
       "      <td>20-12-2014</td>\n",
       "      <td>8172375031575</td>\n",
       "      <td>Hoes</td>\n",
       "      <td>Garden hand tools</td>\n",
       "      <td>4</td>\n",
       "      <td>45.64</td>\n",
       "      <td>5</td>\n",
       "      <td>-1</td>\n",
       "      <td>Article is defect</td>\n",
       "      <td>-1</td>\n",
       "      <td>74.0</td>\n",
       "    </tr>\n",
       "    <tr>\n",
       "      <th>4</th>\n",
       "      <td>1063290</td>\n",
       "      <td>1971-01-08</td>\n",
       "      <td>Woman</td>\n",
       "      <td>Franekeradeel</td>\n",
       "      <td>439149</td>\n",
       "      <td>06-01-2015</td>\n",
       "      <td>8111132296154</td>\n",
       "      <td>Insects and vermin</td>\n",
       "      <td>Control</td>\n",
       "      <td>1</td>\n",
       "      <td>114.24</td>\n",
       "      <td>1</td>\n",
       "      <td>1</td>\n",
       "      <td>NaN</td>\n",
       "      <td>-1</td>\n",
       "      <td>47.0</td>\n",
       "    </tr>\n",
       "  </tbody>\n",
       "</table>\n",
       "</div>"
      ],
      "text/plain": [
       "   Customer number        DoB Gender            PoR  Order number  Order date  \\\n",
       "0          1063418 1944-01-15  Woman    Bloemendaal       1251137  20-12-2014   \n",
       "1          1062078 1934-01-17    Man        De Bilt       1658762  03-11-2017   \n",
       "2          1007060 1947-01-14    Man     Doetinchem        106526  08-06-2013   \n",
       "3          1063418 1944-01-15  Woman    Bloemendaal       1251137  20-12-2014   \n",
       "4          1063290 1971-01-08  Woman  Franekeradeel        439149  06-01-2015   \n",
       "\n",
       "  Product number        Sub category           Category  Count    Price  EDT  \\\n",
       "0  5146308036084       Garden chairs   Garden furniture      1  1090.82    2   \n",
       "1  8119187109467             Torches     Garden heating      6   385.92    4   \n",
       "2  6110364066490        Leaf blowers     Garden reamers      2   173.78    3   \n",
       "3  8172375031575                Hoes  Garden hand tools      4    45.64    5   \n",
       "4  8111132296154  Insects and vermin            Control      1   114.24    1   \n",
       "\n",
       "   ADT                RoR  Rating   Age  \n",
       "0    2                NaN      -1  74.0  \n",
       "1    4                NaN      -1  84.0  \n",
       "2   -1    No reason given      -1  71.0  \n",
       "3   -1  Article is defect      -1  74.0  \n",
       "4    1                NaN      -1  47.0  "
      ]
     },
     "execution_count": 8,
     "metadata": {},
     "output_type": "execute_result"
    }
   ],
   "source": [
    "df_orders.head(5)"
   ]
  },
  {
   "cell_type": "markdown",
   "metadata": {},
   "source": [
    "## Get unique customer numbers and their age"
   ]
  },
  {
   "cell_type": "code",
   "execution_count": 9,
   "metadata": {},
   "outputs": [],
   "source": [
    "customers_age = df_orders[['Customer number', 'Age']]\n",
    "customers_age = customers_age.drop_duplicates()"
   ]
  },
  {
   "cell_type": "markdown",
   "metadata": {},
   "source": [
    "## Visualize age groups"
   ]
  },
  {
   "cell_type": "code",
   "execution_count": 10,
   "metadata": {},
   "outputs": [
    {
     "data": {
      "image/png": "[encoded data removed]",
      "text/plain": [
       "<Figure size 1440x576 with 1 Axes>"
      ]
     },
     "metadata": {},
     "output_type": "display_data"
    }
   ],
   "source": [
    "plt.figure(figsize=[20, 8]);\n",
    "plt.title(\"Age groups\")\n",
    "plt.xlabel(\"Age\")\n",
    "plt.ylabel(\"Number of people\")\n",
    "\n",
    "plt.hist(np.asarray(customers_age['Age']), 67, density=1);"
   ]
  },
  {
   "cell_type": "markdown",
   "metadata": {},
   "source": [
    "## Conclusion\n",
    "\n",
    "### Age groups are almost evenly distributed\n",
    "\n",
    "#### Youngest person is 20 and oldest is 87"
   ]
  }
 ],
 "metadata": {
  "kernelspec": {
   "display_name": "Python 3",
   "language": "python",
   "name": "python3"
  },
  "language_info": {
   "codemirror_mode": {
    "name": "ipython",
    "version": 3
   },
   "file_extension": ".py",
   "mimetype": "text/x-python",
   "name": "python",
   "nbconvert_exporter": "python",
   "pygments_lexer": "ipython3",
   "version": "3.6.5"
  }
 },
 "nbformat": 4,
 "nbformat_minor": 2
}
