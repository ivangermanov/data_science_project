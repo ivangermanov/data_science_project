{
 "cells": [
  {
   "cell_type": "markdown",
   "metadata": {},
   "source": [
    "# Orders data set split of female:male and age bracket customers"
   ]
  },
  {
   "cell_type": "markdown",
   "metadata": {},
   "source": [
    "## Importing the needed libraries"
   ]
  },
  {
   "cell_type": "code",
   "execution_count": 1,
   "metadata": {},
   "outputs": [],
   "source": [
    "import numpy as np\n",
    "import pandas as pd\n",
    "import matplotlib.pyplot as plt"
   ]
  },
  {
   "cell_type": "markdown",
   "metadata": {},
   "source": [
    "## Importing the *orders* data set"
   ]
  },
  {
   "cell_type": "code",
   "execution_count": 2,
   "metadata": {},
   "outputs": [],
   "source": [
    "orders_path = 'orders_edited.csv'"
   ]
  },
  {
   "cell_type": "markdown",
   "metadata": {},
   "source": [
    "Dob - date of birth;\n",
    "\n",
    "PoR - customer place of residence;\n",
    "\n",
    "EDT - expected delivery time;\n",
    "\n",
    "ADT - actual delivery time; \n",
    "\n",
    "RoR - reason of return"
   ]
  },
  {
   "cell_type": "code",
   "execution_count": 3,
   "metadata": {
    "scrolled": true
   },
   "outputs": [],
   "source": [
    "df_orders = pd.read_csv(orders_path,\n",
    "                        #parse_dates=['DoB', 'Order date'],\n",
    "                        dtype=\n",
    "                        {'Customer number': np.int64,\n",
    "                         'Gender': object,\n",
    "                         'PoR': object,\n",
    "                         'Order number': np.int64,\n",
    "                         'Product number': object,\n",
    "                         'Sub category': object,\n",
    "                         'Category': object,\n",
    "                         'Count': np.int16,\n",
    "                         'Price': np.float64,\n",
    "                         'EDT': np.int16,\n",
    "                         'ADT': np.int16,\n",
    "                         'RoR': object,\n",
    "                         'Rating': np.int8})"
   ]
  },
  {
   "cell_type": "code",
   "execution_count": 4,
   "metadata": {},
   "outputs": [
    {
     "data": {
      "text/html": [
       "<div>\n",
       "<style scoped>\n",
       "    .dataframe tbody tr th:only-of-type {\n",
       "        vertical-align: middle;\n",
       "    }\n",
       "\n",
       "    .dataframe tbody tr th {\n",
       "        vertical-align: top;\n",
       "    }\n",
       "\n",
       "    .dataframe thead th {\n",
       "        text-align: right;\n",
       "    }\n",
       "</style>\n",
       "<table border=\"1\" class=\"dataframe\">\n",
       "  <thead>\n",
       "    <tr style=\"text-align: right;\">\n",
       "      <th></th>\n",
       "      <th>Customer number</th>\n",
       "      <th>DoB</th>\n",
       "      <th>Gender</th>\n",
       "      <th>PoR</th>\n",
       "      <th>Order number</th>\n",
       "      <th>Order date</th>\n",
       "      <th>Product number</th>\n",
       "      <th>Sub category</th>\n",
       "      <th>Category</th>\n",
       "      <th>Count</th>\n",
       "      <th>Price</th>\n",
       "      <th>EDT</th>\n",
       "      <th>ADT</th>\n",
       "      <th>RoR</th>\n",
       "      <th>Rating</th>\n",
       "    </tr>\n",
       "  </thead>\n",
       "  <tbody>\n",
       "    <tr>\n",
       "      <th>0</th>\n",
       "      <td>1063418</td>\n",
       "      <td>15-01-1944</td>\n",
       "      <td>Woman</td>\n",
       "      <td>Bloemendaal</td>\n",
       "      <td>1251137</td>\n",
       "      <td>20-12-2014</td>\n",
       "      <td>5146308036084</td>\n",
       "      <td>Garden chairs</td>\n",
       "      <td>Garden furniture</td>\n",
       "      <td>1</td>\n",
       "      <td>1090.82</td>\n",
       "      <td>2</td>\n",
       "      <td>2</td>\n",
       "      <td>NaN</td>\n",
       "      <td>-1</td>\n",
       "    </tr>\n",
       "    <tr>\n",
       "      <th>1</th>\n",
       "      <td>1062078</td>\n",
       "      <td>17-01-1934</td>\n",
       "      <td>Man</td>\n",
       "      <td>De Bilt</td>\n",
       "      <td>1658762</td>\n",
       "      <td>03-11-2017</td>\n",
       "      <td>8119187109467</td>\n",
       "      <td>Torches</td>\n",
       "      <td>Garden heating</td>\n",
       "      <td>6</td>\n",
       "      <td>385.92</td>\n",
       "      <td>4</td>\n",
       "      <td>4</td>\n",
       "      <td>NaN</td>\n",
       "      <td>-1</td>\n",
       "    </tr>\n",
       "    <tr>\n",
       "      <th>2</th>\n",
       "      <td>1007060</td>\n",
       "      <td>14-01-1947</td>\n",
       "      <td>Man</td>\n",
       "      <td>Doetinchem</td>\n",
       "      <td>106526</td>\n",
       "      <td>08-06-2013</td>\n",
       "      <td>6110364066490</td>\n",
       "      <td>Leaf blowers</td>\n",
       "      <td>Garden reamers</td>\n",
       "      <td>2</td>\n",
       "      <td>173.78</td>\n",
       "      <td>3</td>\n",
       "      <td>-1</td>\n",
       "      <td>No reason given</td>\n",
       "      <td>-1</td>\n",
       "    </tr>\n",
       "    <tr>\n",
       "      <th>3</th>\n",
       "      <td>1063418</td>\n",
       "      <td>15-01-1944</td>\n",
       "      <td>Woman</td>\n",
       "      <td>Bloemendaal</td>\n",
       "      <td>1251137</td>\n",
       "      <td>20-12-2014</td>\n",
       "      <td>8172375031575</td>\n",
       "      <td>Hoes</td>\n",
       "      <td>Garden hand tools</td>\n",
       "      <td>4</td>\n",
       "      <td>45.64</td>\n",
       "      <td>5</td>\n",
       "      <td>-1</td>\n",
       "      <td>Article is defect</td>\n",
       "      <td>-1</td>\n",
       "    </tr>\n",
       "    <tr>\n",
       "      <th>4</th>\n",
       "      <td>1063290</td>\n",
       "      <td>08-01-1971</td>\n",
       "      <td>Woman</td>\n",
       "      <td>Franekeradeel</td>\n",
       "      <td>439149</td>\n",
       "      <td>06-01-2015</td>\n",
       "      <td>8111132296154</td>\n",
       "      <td>Insects and vermin</td>\n",
       "      <td>Control</td>\n",
       "      <td>1</td>\n",
       "      <td>114.24</td>\n",
       "      <td>1</td>\n",
       "      <td>1</td>\n",
       "      <td>NaN</td>\n",
       "      <td>-1</td>\n",
       "    </tr>\n",
       "  </tbody>\n",
       "</table>\n",
       "</div>"
      ],
      "text/plain": [
       "   Customer number         DoB Gender            PoR  Order number  \\\n",
       "0          1063418  15-01-1944  Woman    Bloemendaal       1251137   \n",
       "1          1062078  17-01-1934    Man        De Bilt       1658762   \n",
       "2          1007060  14-01-1947    Man     Doetinchem        106526   \n",
       "3          1063418  15-01-1944  Woman    Bloemendaal       1251137   \n",
       "4          1063290  08-01-1971  Woman  Franekeradeel        439149   \n",
       "\n",
       "   Order date Product number        Sub category           Category  Count  \\\n",
       "0  20-12-2014  5146308036084       Garden chairs   Garden furniture      1   \n",
       "1  03-11-2017  8119187109467             Torches     Garden heating      6   \n",
       "2  08-06-2013  6110364066490        Leaf blowers     Garden reamers      2   \n",
       "3  20-12-2014  8172375031575                Hoes  Garden hand tools      4   \n",
       "4  06-01-2015  8111132296154  Insects and vermin            Control      1   \n",
       "\n",
       "     Price  EDT  ADT                RoR  Rating  \n",
       "0  1090.82    2    2                NaN      -1  \n",
       "1   385.92    4    4                NaN      -1  \n",
       "2   173.78    3   -1    No reason given      -1  \n",
       "3    45.64    5   -1  Article is defect      -1  \n",
       "4   114.24    1    1                NaN      -1  "
      ]
     },
     "execution_count": 4,
     "metadata": {},
     "output_type": "execute_result"
    }
   ],
   "source": [
    "df_orders.head(5)"
   ]
  },
  {
   "cell_type": "code",
   "execution_count": 5,
   "metadata": {},
   "outputs": [
    {
     "data": {
      "text/plain": [
       "array(['Woman', 'Man', '\\\\ '], dtype=object)"
      ]
     },
     "execution_count": 5,
     "metadata": {},
     "output_type": "execute_result"
    }
   ],
   "source": [
    "df_orders['Gender'].unique()"
   ]
  },
  {
   "cell_type": "markdown",
   "metadata": {},
   "source": [
    "### A statistically unimportant number of people have unknown gender, therefore it's not included in the pie chart"
   ]
  },
  {
   "cell_type": "code",
   "execution_count": 19,
   "metadata": {},
   "outputs": [],
   "source": [
    "unique_customer_df = df_orders[['Customer number', 'Gender']]"
   ]
  },
  {
   "cell_type": "code",
   "execution_count": 23,
   "metadata": {},
   "outputs": [],
   "source": [
    "unique_customer_df = unique_customer_df.drop_duplicates()"
   ]
  },
  {
   "cell_type": "code",
   "execution_count": 24,
   "metadata": {},
   "outputs": [
    {
     "name": "stdout",
     "output_type": "stream",
     "text": [
      "3161095\n",
      "1361334\n",
      "53032\n",
      "22804\n"
     ]
    }
   ],
   "source": [
    "male_df = df_orders[df_orders['Gender'] == 'Man']\n",
    "female_df = df_orders[df_orders['Gender'] == 'Woman']\n",
    "male_unique_customer_df = unique_customer_df[unique_customer_df['Gender'] == 'Man']\n",
    "female_unique_customer_df = unique_customer_df[unique_customer_df['Gender'] == 'Woman']\n",
    "print(len(male_df))\n",
    "print(len(female_df))\n",
    "print(len(male_unique_customer_df))\n",
    "print(len(female_unique_customer_df))"
   ]
  },
  {
   "cell_type": "code",
   "execution_count": 25,
   "metadata": {},
   "outputs": [
    {
     "data": {
      "image/png": "[encoded data removed]",
      "text/plain": [
       "<Figure size 432x288 with 1 Axes>"
      ]
     },
     "metadata": {},
     "output_type": "display_data"
    }
   ],
   "source": [
    "labels = 'Male', 'Female'\n",
    "sizes = [len(male_unique_customer_df), len(female_unique_customer_df)]\n",
    "\n",
    "fig1, ax1 = plt.subplots()\n",
    "ax1.pie(sizes, labels=labels, autopct='%1.1f%%', shadow=True, startangle=90)\n",
    "ax1.axis('equal')\n",
    "\n",
    "plt.show()"
   ]
  },
  {
   "cell_type": "code",
   "execution_count": null,
   "metadata": {},
   "outputs": [],
   "source": []
  },
  {
   "cell_type": "code",
   "execution_count": null,
   "metadata": {},
   "outputs": [],
   "source": []
  },
  {
   "cell_type": "code",
   "execution_count": null,
   "metadata": {},
   "outputs": [],
   "source": []
  },
  {
   "cell_type": "code",
   "execution_count": null,
   "metadata": {},
   "outputs": [],
   "source": []
  },
  {
   "cell_type": "code",
   "execution_count": null,
   "metadata": {},
   "outputs": [],
   "source": []
  },
  {
   "cell_type": "code",
   "execution_count": null,
   "metadata": {},
   "outputs": [],
   "source": []
  }
 ],
 "metadata": {
  "kernelspec": {
   "display_name": "Python 3",
   "language": "python",
   "name": "python3"
  },
  "language_info": {
   "codemirror_mode": {
    "name": "ipython",
    "version": 3
   },
   "file_extension": ".py",
   "mimetype": "text/x-python",
   "name": "python",
   "nbconvert_exporter": "python",
   "pygments_lexer": "ipython3",
   "version": "3.6.5"
  }
 },
 "nbformat": 4,
 "nbformat_minor": 2
}
