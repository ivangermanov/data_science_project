{
 "cells": [
  {
   "cell_type": "markdown",
   "metadata": {},
   "source": [
    "# Preparing and cleaning the data"
   ]
  },
  {
   "cell_type": "code",
   "execution_count": 1,
   "metadata": {},
   "outputs": [],
   "source": [
    "import numpy as np\n",
    "import pandas as pd\n",
    "import datetime as dt"
   ]
  },
  {
   "cell_type": "code",
   "execution_count": 2,
   "metadata": {},
   "outputs": [],
   "source": [
    "orders_path = '../orders.csv'\n",
    "date_parser = pd.to_datetime\n",
    "parse_dates = [1, 5]\n",
    "\n",
    "df_orders = pd.read_csv(\n",
    "    orders_path,\n",
    "    header=None,\n",
    "    parse_dates=parse_dates,\n",
    "    date_parser=date_parser,\n",
    "    infer_datetime_format=True,\n",
    "    sep='|',\n",
    "    index_col=None,\n",
    "    encoding='latin1',\n",
    "    dtype={0: object,\n",
    "           2: 'category',\n",
    "           3: object,\n",
    "           4: object,\n",
    "           6: object,\n",
    "           7: 'category',\n",
    "           8: 'category',\n",
    "           9: np.int64,\n",
    "           10: np.float64,\n",
    "           11: np.int64,\n",
    "           12: np.int64,\n",
    "           13: object,\n",
    "           14: np.int64,\n",
    "           15: object})\n",
    "\n",
    "df_orders.drop(df_orders.columns[-1], axis=1, inplace=True)\n",
    "df_orders.reset_index()\n",
    "\n",
    "df_orders.columns = ['Customer number', 'DoB', 'Gender', 'PoR', 'Order number',\n",
    "           'Order date', 'Product number', 'Sub category', 'Category',\n",
    "           'Count', 'Price', 'EDT', 'ADT', 'RoR', 'Rating']"
   ]
  },
  {
   "cell_type": "code",
   "execution_count": 3,
   "metadata": {},
   "outputs": [],
   "source": [
    "df_orders[\"DoB\"] = df_orders[\"DoB\"].dt.strftime(\"%d-%m-%Y\")\n",
    "df_orders[\"Order date\"] = df_orders[\"Order date\"].dt.strftime(\"%d-%m-%Y\")"
   ]
  },
  {
   "cell_type": "markdown",
   "metadata": {},
   "source": [
    "## Null values\n",
    "    -> The only null values are found in the column for Reason of return\n",
    "    -> We will deal with this matter in the Feature engineering section"
   ]
  },
  {
   "cell_type": "code",
   "execution_count": 4,
   "metadata": {},
   "outputs": [
    {
     "data": {
      "text/plain": [
       "RoR    4303432\n",
       "dtype: int64"
      ]
     },
     "execution_count": 4,
     "metadata": {},
     "output_type": "execute_result"
    }
   ],
   "source": [
    "null_columns=df_orders.columns[df_orders.isnull().any()]\n",
    "df_orders[null_columns].isnull().sum()"
   ]
  },
  {
   "cell_type": "code",
   "execution_count": 5,
   "metadata": {},
   "outputs": [
    {
     "data": {
      "text/plain": [
       "Customer number    4523276\n",
       "DoB                4523276\n",
       "Gender             4523276\n",
       "PoR                4523276\n",
       "Order number       4523276\n",
       "Order date         4523276\n",
       "Product number     4523276\n",
       "Sub category       4523276\n",
       "Category           4523276\n",
       "Count              4523276\n",
       "Price              4523276\n",
       "EDT                4523276\n",
       "ADT                4523276\n",
       "RoR                 219844\n",
       "Rating             4523276\n",
       "dtype: int64"
      ]
     },
     "execution_count": 5,
     "metadata": {},
     "output_type": "execute_result"
    }
   ],
   "source": [
    "df_orders.count()"
   ]
  },
  {
   "cell_type": "markdown",
   "metadata": {},
   "source": [
    "# Exporting the clean data"
   ]
  },
  {
   "cell_type": "code",
   "execution_count": 6,
   "metadata": {},
   "outputs": [],
   "source": [
    "df_orders.to_csv(\"../orders_cleaned.csv\", index=False)"
   ]
  }
 ],
 "metadata": {
  "kernelspec": {
   "display_name": "Python 3",
   "language": "python",
   "name": "python3"
  },
  "language_info": {
   "codemirror_mode": {
    "name": "ipython",
    "version": 3
   },
   "file_extension": ".py",
   "mimetype": "text/x-python",
   "name": "python",
   "nbconvert_exporter": "python",
   "pygments_lexer": "ipython3",
   "version": "3.6.5"
  }
 },
 "nbformat": 4,
 "nbformat_minor": 2
}
