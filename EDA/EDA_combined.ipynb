{
 "cells": [
  {
   "cell_type": "markdown",
   "metadata": {},
   "source": [
    "# Data Preparation and cleaning"
   ]
  },
  {
   "cell_type": "markdown",
   "metadata": {},
   "source": [
    "## Libraries"
   ]
  },
  {
   "cell_type": "code",
   "execution_count": 1,
   "metadata": {},
   "outputs": [],
   "source": [
    "import numpy as np\n",
    "import pandas as pd\n",
    "import datetime as dt\n",
    "\n",
    "import os\n",
    "import matplotlib.pyplot as plt\n",
    "\n",
    "%matplotlib inline\n",
    "import seaborn as sns\n",
    "\n",
    "import warnings\n",
    "warnings.filterwarnings(\"ignore\")"
   ]
  },
  {
   "cell_type": "code",
   "execution_count": 2,
   "metadata": {},
   "outputs": [],
   "source": [
    "orders_path = '../orders_cleaned.csv'\n",
    "\n",
    "df_orders = pd.read_csv(orders_path,\n",
    "                        dtype=\n",
    "                        {'Customer number': object,\n",
    "                         'Gender': 'category',\n",
    "                         'PoR': object,\n",
    "                         'Order number': object,\n",
    "                         'Product number': object,\n",
    "                         'Sub category': 'category',\n",
    "                         'Category': 'category',\n",
    "                         'Count': np.int16,\n",
    "                         'Price': np.float64,\n",
    "                         'EDT': np.int16,\n",
    "                         'ADT': np.int16,\n",
    "                         'RoR': object,\n",
    "                         'Rating': np.int8})\n",
    "\n",
    "df_orders[\"Order date\"] = pd.to_datetime(df_orders[\"Order date\"], format=\"%d-%m-%Y\")\n",
    "df_orders[\"DoB\"] = pd.to_datetime(df_orders[\"DoB\"], format=\"%d-%m-%Y\")"
   ]
  },
  {
   "cell_type": "markdown",
   "metadata": {},
   "source": [
    "## Feature engineering"
   ]
  },
  {
   "cell_type": "markdown",
   "metadata": {},
   "source": [
    "### \"Returned\"\n",
    "    -> binary value\n",
    "    -> is the product retured or not"
   ]
  },
  {
   "cell_type": "code",
   "execution_count": 3,
   "metadata": {},
   "outputs": [],
   "source": [
    "df_orders.loc[df_orders['RoR'].isnull(), 'Returned'] = 0\n",
    "df_orders.loc[df_orders['RoR'].notnull(), 'Returned'] = 1\n",
    "df_orders = df_orders.drop('RoR', axis=1)"
   ]
  },
  {
   "cell_type": "markdown",
   "metadata": {},
   "source": [
    "### \"Price per product\"\n",
    "    -> what is the price of the product ordered"
   ]
  },
  {
   "cell_type": "code",
   "execution_count": 4,
   "metadata": {},
   "outputs": [],
   "source": [
    "df_orders['Price per Product'] = df_orders['Price'] / df_orders['Count']"
   ]
  },
  {
   "cell_type": "markdown",
   "metadata": {},
   "source": [
    "### \"Man\" / \"Woman\"\n",
    "    -> boolean values\n",
    "    -> is the gender man or woman\n",
    "    -> the method is called One-Hot-Encoding. It is done instead of changing the genders to 0 and 1 in the original column, so the models in the future can diferentiate them like categories, not numbers\n",
    "    -> as there are statistically unimportant number of missing gender values, we will make both columns 'Man' and 'Woman' = 0"
   ]
  },
  {
   "cell_type": "code",
   "execution_count": 5,
   "metadata": {},
   "outputs": [],
   "source": [
    "df_orders.loc[df_orders['Gender'] == \"Man\", 'Man'] = 1\n",
    "df_orders.loc[df_orders['Gender'] == \"Woman\", 'Man'] = 0\n",
    "df_orders.loc[df_orders['Gender'] == \"Man\", 'Woman'] = 0\n",
    "df_orders.loc[df_orders['Gender'] == \"Woman\", 'Woman'] = 1"
   ]
  },
  {
   "cell_type": "code",
   "execution_count": 6,
   "metadata": {},
   "outputs": [],
   "source": [
    "df_orders['Man'].replace(np.nan, 0, inplace=True)\n",
    "df_orders['Woman'].replace(np.nan, 0, inplace=True)"
   ]
  },
  {
   "cell_type": "markdown",
   "metadata": {},
   "source": [
    "### \"Age\" \n",
    "    -> based on the date of birth"
   ]
  },
  {
   "cell_type": "code",
   "execution_count": 7,
   "metadata": {},
   "outputs": [],
   "source": [
    "today = dt.datetime.today()\n",
    "\n",
    "df_orders[\"DoB\"] = pd.to_datetime(df_orders[\"DoB\"], format=\"%d-%m-%Y\")\n",
    "df_orders[\"Age\"] = today.year - df_orders[\"DoB\"].dt.year - ((today.month <= df_orders[\"DoB\"].dt.month)\n",
    "                                                            & (today.day <= df_orders[\"DoB\"].dt.day))"
   ]
  },
  {
   "cell_type": "markdown",
   "metadata": {},
   "source": [
    "### \"Order month\" and \"Order year\"\n",
    "    -> separate the month and the year of an order for easier analysis"
   ]
  },
  {
   "cell_type": "code",
   "execution_count": 8,
   "metadata": {},
   "outputs": [],
   "source": [
    "df_orders[\"Order date\"] = pd.to_datetime(df_orders[\"Order date\"], format=\"%d-%m-%Y\")\n",
    "df_orders[\"Order month\"] = df_orders[\"Order date\"].dt.month\n",
    "df_orders[\"Order year\"] = df_orders[\"Order date\"].dt.year"
   ]
  },
  {
   "cell_type": "markdown",
   "metadata": {},
   "source": [
    "### \"DeltaT\"\n",
    "    -> number representation of the days\n",
    "    -> the 0 day is 01-01-2013 and each next day is +1"
   ]
  },
  {
   "cell_type": "code",
   "execution_count": 9,
   "metadata": {},
   "outputs": [],
   "source": [
    "first_order = pd.to_datetime(\"01-01-2013\", format=\"%d-%m-%Y\")\n",
    "df_orders[\"DeltaT\"] = (df_orders[\"Order date\"] - first_order).dt.days"
   ]
  },
  {
   "cell_type": "markdown",
   "metadata": {},
   "source": [
    "## Current information about the dataset"
   ]
  },
  {
   "cell_type": "code",
   "execution_count": 10,
   "metadata": {
    "scrolled": true
   },
   "outputs": [
    {
     "name": "stdout",
     "output_type": "stream",
     "text": [
      "<class 'pandas.core.frame.DataFrame'>\n",
      "RangeIndex: 4523276 entries, 0 to 4523275\n",
      "Data columns (total 22 columns):\n",
      "Customer number      object\n",
      "DoB                  datetime64[ns]\n",
      "Gender               category\n",
      "PoR                  object\n",
      "Order number         object\n",
      "Order date           datetime64[ns]\n",
      "Product number       object\n",
      "Sub category         category\n",
      "Category             category\n",
      "Count                int16\n",
      "Price                float64\n",
      "EDT                  int16\n",
      "ADT                  int16\n",
      "Rating               int8\n",
      "Returned             float64\n",
      "Price per Product    float64\n",
      "Man                  float64\n",
      "Woman                float64\n",
      "Age                  int64\n",
      "Order month          int64\n",
      "Order year           int64\n",
      "DeltaT               int64\n",
      "dtypes: category(3), datetime64[ns](2), float64(5), int16(3), int64(4), int8(1), object(4)\n",
      "memory usage: 560.8+ MB\n"
     ]
    }
   ],
   "source": [
    "df_orders.info()"
   ]
  },
  {
   "cell_type": "markdown",
   "metadata": {},
   "source": [
    "# Exploratory Data Analysis (EDA)"
   ]
  },
  {
   "cell_type": "markdown",
   "metadata": {},
   "source": [
    "## Gender distribution"
   ]
  },
  {
   "cell_type": "code",
   "execution_count": 11,
   "metadata": {},
   "outputs": [],
   "source": [
    "unique_gender = df_orders[['Customer number', 'Man', 'Woman']]\n",
    "unique_gender = unique_gender.drop_duplicates('Customer number')\n",
    "\n",
    "male = unique_gender[unique_gender['Man'] == 1]\n",
    "female = unique_gender[unique_gender['Woman'] == 1]"
   ]
  },
  {
   "cell_type": "code",
   "execution_count": 12,
   "metadata": {},
   "outputs": [
    {
     "data": {
      "image/png": "[encoded data removed]",
      "text/plain": [
       "<Figure size 432x288 with 1 Axes>"
      ]
     },
     "metadata": {},
     "output_type": "display_data"
    }
   ],
   "source": [
    "labels = 'Male', 'Female'\n",
    "sizes = [len(male), len(female)]\n",
    "\n",
    "fig1, ax1 = plt.subplots()\n",
    "ax1.pie(sizes, labels=labels, autopct='%1.1f%%', startangle=90)\n",
    "ax1.axis('equal')\n",
    "\n",
    "plt.show()"
   ]
  },
  {
   "cell_type": "markdown",
   "metadata": {},
   "source": [
    "## Age distribution"
   ]
  },
  {
   "cell_type": "code",
   "execution_count": 13,
   "metadata": {},
   "outputs": [],
   "source": [
    "customers_age = df_orders[['Customer number', 'Age']]\n",
    "customers_age = customers_age.drop_duplicates('Customer number')"
   ]
  },
  {
   "cell_type": "code",
   "execution_count": 14,
   "metadata": {},
   "outputs": [
    {
     "name": "stdout",
     "output_type": "stream",
     "text": [
      "\n"
     ]
    },
    {
     "data": {
      "image/png": "[encoded data removed]",
      "text/plain": [
       "<Figure size 720x432 with 1 Axes>"
      ]
     },
     "metadata": {},
     "output_type": "display_data"
    }
   ],
   "source": [
    "sns.set_style('darkgrid')\n",
    "x = pd.Series(customers_age['Age'], name=\"Ages\")\n",
    "plt.subplots(figsize=(10,6))\n",
    "sns.distplot(x)\n",
    "plt.title(\"Distribution of ages\")\n",
    "print()"
   ]
  },
  {
   "cell_type": "markdown",
   "metadata": {},
   "source": [
    "## Categories and subcategories"
   ]
  },
  {
   "cell_type": "code",
   "execution_count": 15,
   "metadata": {
    "scrolled": true
   },
   "outputs": [
    {
     "name": "stdout",
     "output_type": "stream",
     "text": [
      "                                                              Category  Sub category\n",
      "Category          Sub category                                                      \n",
      "Control           Grout brushes                                      1             1\n",
      "                  Insects and vermin                                 1             1\n",
      "                  Insects and vermin (2-pack)                        1             1\n",
      "                  Weed brush                                         1             1\n",
      "                  Weed brush (2-pack)                                1             1\n",
      "                  Weed burner                                        1             1\n",
      "                  Weed burner (2-pack)                               1             1\n",
      "                  \\                                                  1             1\n",
      "                  Grout brushes (2-pack)                             1             1\n",
      "Garden decoration Garden gnomes                                      1             1\n",
      "                  Garden gnomes (2-pack)                             1             1\n",
      "                  Garden statues                                     1             1\n",
      "                  Sundials                                           1             1\n",
      "                  Sundials (2-pack)                                  1             1\n",
      "                  \\                                                  1             1\n",
      "                  Garden statues (2-pack)                            1             1\n",
      "Garden furniture  Bistro sets                                        1             1\n",
      "                  Garden benches                                     1             1\n",
      "                  Garden chairs                                      1             1\n",
      "                  Garden sets                                        1             1\n",
      "                  Garden tables                                      1             1\n",
      "                  Sun beds                                           1             1\n",
      "                  Sun beds (2-pack)                                  1             1\n",
      "                  \\                                                  1             1\n",
      "                  Garden chairs (2-pack)                             1             1\n",
      "                  Garden benches (2-pack)                            1             1\n",
      "                  Garden sets (2-pack)                               1             1\n",
      "                  Garden tables (2-pack)                             1             1\n",
      "Garden hand tools Garden tillers                                     1             1\n",
      "                  Hoes                                               1             1\n",
      "                  Rakes                                              1             1\n",
      "                  Rakes (2-pack)                                     1             1\n",
      "                  Spades                                             1             1\n",
      "                  Spades (2-pack)                                    1             1\n",
      "                  Split forks                                        1             1\n",
      "                  \\                                                  1             1\n",
      "                  Hoes (2-pack)                                      1             1\n",
      "                  Split forks (2-pack)                               1             1\n",
      "                   (2-pack)                                          1             1\n",
      "Garden heating    Fire pits                                          1             1\n",
      "                  Fire pits (2-pack)                                 1             1\n",
      "                  Fireplaces                                         1             1\n",
      "                  Patio heaters                                      1             1\n",
      "                  Torches                                            1             1\n",
      "                  \\                                                  1             1\n",
      "                  Torches (2-pack)                                   1             1\n",
      "                  Fireplaces (2-pack)                                1             1\n",
      "                  Patio heaters (2-pack)                             1             1\n",
      "Garden reamers    Choppers                                           1             1\n",
      "                  High pressure cleaner accessoires                  1             1\n",
      "                  High pressure cleaners                             1             1\n",
      "                  Leaf blowers                                       1             1\n",
      "                  Wheelbarrrows                                      1             1\n",
      "                  \\                                                  1             1\n",
      "                  High pressure cleaner accessoires (2-pack)         1             1\n",
      "                  Wheelbarrrows (2-pack)                             1             1\n",
      "                  High pressure cleaners (2-pack)                    1             1\n",
      "                  Leaf blowers (2-pack)                              1             1\n",
      "Gardening tools   Brushcutters                                       1             1\n",
      "                  Grass shears                                       1             1\n",
      "                  Grass shears (2-pack)                              1             1\n",
      "                  Grass trimmers                                     1             1\n",
      "                  Lawn mowers                                        1             1\n",
      "                  Scarifying machines                                1             1\n",
      "                  \\                                                  1             1\n",
      "                  Grass trimmers (2-pack)                            1             1\n",
      "Lounge furniture  Garden bars                                        1             1\n",
      "                  Lounge chairs                                      1             1\n",
      "                  Lounge sets                                        1             1\n",
      "                  Lounge sofas                                       1             1\n",
      "                  Lounge stuff                                       1             1\n",
      "                  Lounge tables                                      1             1\n",
      "                  \\                                                  1             1\n",
      "                  Garden bars (2-pack)                               1             1\n",
      "Other furniture   Hammock chair                                      1             1\n",
      "                  Hammock chair (2-pack)                             1             1\n",
      "                  Hammocks                                           1             1\n",
      "                  Hammocks (2-pack)                                  1             1\n",
      "                  Picnic tables                                      1             1\n",
      "                  \\                                                  1             1\n",
      "Pruning           BUXUS shears                                       1             1\n",
      "                  Chain saws                                         1             1\n",
      "                  Hedge trimmers                                     1             1\n",
      "                  Pruning shears                                     1             1\n",
      "                  \\                                                  1             1\n",
      "                  Pruning shears (2-pack)                            1             1\n",
      "                  Hedge trimmers (2-pack)                            1             1\n",
      "                  BUXUS shears (2-pack)                              1             1\n",
      "Sun protection    Parasols                                           1             1\n",
      "                  Parasols (2-pack)                                  1             1\n",
      "                  Party tents                                        1             1\n",
      "                  Sunshades                                          1             1\n",
      "                  Sunshades (2-pack)                                 1             1\n",
      "                  \\                                                  1             1\n",
      "                   (2-pack)                                          1             1\n",
      "                  Party tents (2-pack)                               1             1\n",
      "Watering          Garden hose holders                                1             1\n",
      "                  Garden hoses                                       1             1\n",
      "                  Garden hoses (2-pack)                              1             1\n",
      "                  Pumps                                              1             1\n",
      "                  Sprinklers                                         1             1\n",
      "                  \\                                                  1             1\n",
      "                  Sprinklers (2-pack)                                1             1\n"
     ]
    }
   ],
   "source": [
    "df_ordered_categories = df_orders.groupby(['Category', 'Sub category'])\n",
    "print(df_ordered_categories[['Category', 'Sub category']].nunique().to_string())"
   ]
  },
  {
   "cell_type": "markdown",
   "metadata": {},
   "source": [
    "## Money earned per category"
   ]
  },
  {
   "cell_type": "code",
   "execution_count": 16,
   "metadata": {},
   "outputs": [
    {
     "data": {
      "text/plain": [
       "Category\n",
       "Control               61909208.870\n",
       "Garden decoration    159934279.610\n",
       "Garden furniture    1065657468.920\n",
       "Garden hand tools      8157242.320\n",
       "Garden heating        72732239.220\n",
       "Garden reamers        21644499.300\n",
       "Gardening tools       52702879.640\n",
       "Lounge furniture     260719974.180\n",
       "Other furniture       55055565.750\n",
       "Pruning               42316111.220\n",
       "Sun protection       250412321.870\n",
       "Watering             112489755.740\n",
       "Name: Price, dtype: float64"
      ]
     },
     "execution_count": 16,
     "metadata": {},
     "output_type": "execute_result"
    }
   ],
   "source": [
    "money_per_category = df_orders.groupby(['Category'])['Price'].sum()\n",
    "pd.set_option('display.float_format', lambda x: '%.3f' % x)\n",
    "money_per_category"
   ]
  },
  {
   "cell_type": "markdown",
   "metadata": {},
   "source": [
    "## Distribution of orders per customer"
   ]
  },
  {
   "cell_type": "code",
   "execution_count": 17,
   "metadata": {},
   "outputs": [],
   "source": [
    "df_orders = df_orders.sort_values(['Customer number', 'Order date'])\n",
    "\n",
    "orders_per_customer = df_orders[['Customer number', 'Order number']]\n",
    "orders_per_customer = orders_per_customer.groupby('Customer number')['Order number'].count().reset_index()\n",
    "orders_per_customer.rename(columns = {'Order number' : 'Number of orders'}, inplace=True)"
   ]
  },
  {
   "cell_type": "code",
   "execution_count": 46,
   "metadata": {},
   "outputs": [
    {
     "name": "stdout",
     "output_type": "stream",
     "text": [
      "\n"
     ]
    },
    {
     "data": {
      "image/png": "[encoded data removed]",
      "text/plain": [
       "<Figure size 720x432 with 1 Axes>"
      ]
     },
     "metadata": {},
     "output_type": "display_data"
    }
   ],
   "source": [
    "sns.set_style('darkgrid')\n",
    "x = pd.Series(orders_per_customer['Number of orders'], name=\"Orders/customer\")\n",
    "plt.subplots(figsize=(10,6))\n",
    "sns.distplot(x)\n",
    "plt.title(\"Distribution of orders per customer\")\n",
    "print()"
   ]
  },
  {
   "cell_type": "markdown",
   "metadata": {},
   "source": [
    "## Replacing all -1 values with NaN in 'Rating'"
   ]
  },
  {
   "cell_type": "code",
   "execution_count": 19,
   "metadata": {},
   "outputs": [],
   "source": [
    "df_orders['Rating'].replace(-1, np.nan, inplace=True)"
   ]
  },
  {
   "cell_type": "markdown",
   "metadata": {},
   "source": [
    "## Average rating per customer"
   ]
  },
  {
   "cell_type": "code",
   "execution_count": 20,
   "metadata": {},
   "outputs": [
    {
     "data": {
      "text/html": [
       "<div>\n",
       "<style scoped>\n",
       "    .dataframe tbody tr th:only-of-type {\n",
       "        vertical-align: middle;\n",
       "    }\n",
       "\n",
       "    .dataframe tbody tr th {\n",
       "        vertical-align: top;\n",
       "    }\n",
       "\n",
       "    .dataframe thead th {\n",
       "        text-align: right;\n",
       "    }\n",
       "</style>\n",
       "<table border=\"1\" class=\"dataframe\">\n",
       "  <thead>\n",
       "    <tr style=\"text-align: right;\">\n",
       "      <th></th>\n",
       "      <th>Customer number</th>\n",
       "      <th>Rating</th>\n",
       "    </tr>\n",
       "  </thead>\n",
       "  <tbody>\n",
       "    <tr>\n",
       "      <th>389255</th>\n",
       "      <td>1004532</td>\n",
       "      <td>5.000</td>\n",
       "    </tr>\n",
       "    <tr>\n",
       "      <th>1461211</th>\n",
       "      <td>1004532</td>\n",
       "      <td>nan</td>\n",
       "    </tr>\n",
       "    <tr>\n",
       "      <th>312254</th>\n",
       "      <td>1004532</td>\n",
       "      <td>4.000</td>\n",
       "    </tr>\n",
       "    <tr>\n",
       "      <th>315189</th>\n",
       "      <td>1004532</td>\n",
       "      <td>4.000</td>\n",
       "    </tr>\n",
       "    <tr>\n",
       "      <th>1389454</th>\n",
       "      <td>1004532</td>\n",
       "      <td>nan</td>\n",
       "    </tr>\n",
       "  </tbody>\n",
       "</table>\n",
       "</div>"
      ],
      "text/plain": [
       "        Customer number  Rating\n",
       "389255          1004532   5.000\n",
       "1461211         1004532     nan\n",
       "312254          1004532   4.000\n",
       "315189          1004532   4.000\n",
       "1389454         1004532     nan"
      ]
     },
     "execution_count": 20,
     "metadata": {},
     "output_type": "execute_result"
    }
   ],
   "source": [
    "rating_per_customer_avg = df_orders[['Customer number', 'Rating']]\n",
    "rating_per_customer_avg.head()"
   ]
  },
  {
   "cell_type": "code",
   "execution_count": 21,
   "metadata": {},
   "outputs": [],
   "source": [
    "rating_per_customer_avg = rating_per_customer_avg.groupby('Customer number')['Rating'].mean().reset_index()"
   ]
  },
  {
   "cell_type": "markdown",
   "metadata": {},
   "source": [
    "### Give all people that haven't given raiting an average raiting value of -1"
   ]
  },
  {
   "cell_type": "code",
   "execution_count": 22,
   "metadata": {},
   "outputs": [],
   "source": [
    "rating_per_customer_avg['Rating'].replace(np.nan, -1, inplace=True)\n",
    "rating_per_customer_avg.rename(columns = {'Rating' : 'Average rating'}, inplace=True)"
   ]
  },
  {
   "cell_type": "markdown",
   "metadata": {},
   "source": [
    "## Estimated date of arrival / actual date of arrival"
   ]
  },
  {
   "cell_type": "code",
   "execution_count": 23,
   "metadata": {},
   "outputs": [],
   "source": [
    "df_average_edt_divided_by_adt_per_customer = df_orders[['Customer number', 'EDT', 'ADT', 'Age']]"
   ]
  },
  {
   "cell_type": "code",
   "execution_count": 24,
   "metadata": {},
   "outputs": [],
   "source": [
    "df_average_edt_divided_by_adt_per_customer = df_average_edt_divided_by_adt_per_customer.groupby('Customer number')['EDT', 'ADT'].mean().reset_index()"
   ]
  },
  {
   "cell_type": "code",
   "execution_count": 25,
   "metadata": {},
   "outputs": [
    {
     "data": {
      "text/html": [
       "<div>\n",
       "<style scoped>\n",
       "    .dataframe tbody tr th:only-of-type {\n",
       "        vertical-align: middle;\n",
       "    }\n",
       "\n",
       "    .dataframe tbody tr th {\n",
       "        vertical-align: top;\n",
       "    }\n",
       "\n",
       "    .dataframe thead th {\n",
       "        text-align: right;\n",
       "    }\n",
       "</style>\n",
       "<table border=\"1\" class=\"dataframe\">\n",
       "  <thead>\n",
       "    <tr style=\"text-align: right;\">\n",
       "      <th></th>\n",
       "      <th>Customer number</th>\n",
       "      <th>EDT</th>\n",
       "      <th>ADT</th>\n",
       "    </tr>\n",
       "  </thead>\n",
       "  <tbody>\n",
       "    <tr>\n",
       "      <th>0</th>\n",
       "      <td>1004532</td>\n",
       "      <td>2.714</td>\n",
       "      <td>3.020</td>\n",
       "    </tr>\n",
       "    <tr>\n",
       "      <th>1</th>\n",
       "      <td>1004533</td>\n",
       "      <td>2.347</td>\n",
       "      <td>2.694</td>\n",
       "    </tr>\n",
       "    <tr>\n",
       "      <th>2</th>\n",
       "      <td>1004534</td>\n",
       "      <td>2.676</td>\n",
       "      <td>3.958</td>\n",
       "    </tr>\n",
       "    <tr>\n",
       "      <th>3</th>\n",
       "      <td>1004535</td>\n",
       "      <td>3.113</td>\n",
       "      <td>3.283</td>\n",
       "    </tr>\n",
       "    <tr>\n",
       "      <th>4</th>\n",
       "      <td>1004536</td>\n",
       "      <td>2.642</td>\n",
       "      <td>2.830</td>\n",
       "    </tr>\n",
       "  </tbody>\n",
       "</table>\n",
       "</div>"
      ],
      "text/plain": [
       "  Customer number   EDT   ADT\n",
       "0         1004532 2.714 3.020\n",
       "1         1004533 2.347 2.694\n",
       "2         1004534 2.676 3.958\n",
       "3         1004535 3.113 3.283\n",
       "4         1004536 2.642 2.830"
      ]
     },
     "execution_count": 25,
     "metadata": {},
     "output_type": "execute_result"
    }
   ],
   "source": [
    "df_average_edt_divided_by_adt_per_customer.head()"
   ]
  },
  {
   "cell_type": "code",
   "execution_count": 26,
   "metadata": {},
   "outputs": [],
   "source": [
    "df_average_edt_divided_by_adt_per_customer['EDT_divided_ADT'] = df_average_edt_divided_by_adt_per_customer['EDT'] / df_average_edt_divided_by_adt_per_customer['ADT']"
   ]
  },
  {
   "cell_type": "code",
   "execution_count": 27,
   "metadata": {},
   "outputs": [
    {
     "data": {
      "text/html": [
       "<div>\n",
       "<style scoped>\n",
       "    .dataframe tbody tr th:only-of-type {\n",
       "        vertical-align: middle;\n",
       "    }\n",
       "\n",
       "    .dataframe tbody tr th {\n",
       "        vertical-align: top;\n",
       "    }\n",
       "\n",
       "    .dataframe thead th {\n",
       "        text-align: right;\n",
       "    }\n",
       "</style>\n",
       "<table border=\"1\" class=\"dataframe\">\n",
       "  <thead>\n",
       "    <tr style=\"text-align: right;\">\n",
       "      <th></th>\n",
       "      <th>Customer number</th>\n",
       "      <th>EDT</th>\n",
       "      <th>ADT</th>\n",
       "      <th>EDT_divided_ADT</th>\n",
       "    </tr>\n",
       "  </thead>\n",
       "  <tbody>\n",
       "    <tr>\n",
       "      <th>0</th>\n",
       "      <td>1004532</td>\n",
       "      <td>2.714</td>\n",
       "      <td>3.020</td>\n",
       "      <td>0.899</td>\n",
       "    </tr>\n",
       "    <tr>\n",
       "      <th>1</th>\n",
       "      <td>1004533</td>\n",
       "      <td>2.347</td>\n",
       "      <td>2.694</td>\n",
       "      <td>0.871</td>\n",
       "    </tr>\n",
       "    <tr>\n",
       "      <th>2</th>\n",
       "      <td>1004534</td>\n",
       "      <td>2.676</td>\n",
       "      <td>3.958</td>\n",
       "      <td>0.676</td>\n",
       "    </tr>\n",
       "    <tr>\n",
       "      <th>3</th>\n",
       "      <td>1004535</td>\n",
       "      <td>3.113</td>\n",
       "      <td>3.283</td>\n",
       "      <td>0.948</td>\n",
       "    </tr>\n",
       "    <tr>\n",
       "      <th>4</th>\n",
       "      <td>1004536</td>\n",
       "      <td>2.642</td>\n",
       "      <td>2.830</td>\n",
       "      <td>0.933</td>\n",
       "    </tr>\n",
       "  </tbody>\n",
       "</table>\n",
       "</div>"
      ],
      "text/plain": [
       "  Customer number   EDT   ADT  EDT_divided_ADT\n",
       "0         1004532 2.714 3.020            0.899\n",
       "1         1004533 2.347 2.694            0.871\n",
       "2         1004534 2.676 3.958            0.676\n",
       "3         1004535 3.113 3.283            0.948\n",
       "4         1004536 2.642 2.830            0.933"
      ]
     },
     "execution_count": 27,
     "metadata": {},
     "output_type": "execute_result"
    }
   ],
   "source": [
    "df_average_edt_divided_by_adt_per_customer.head()"
   ]
  },
  {
   "cell_type": "markdown",
   "metadata": {},
   "source": [
    "## Percent returned items"
   ]
  },
  {
   "cell_type": "code",
   "execution_count": 28,
   "metadata": {},
   "outputs": [],
   "source": [
    "returns_per_customer = df_orders[['Customer number', 'Returned']]\n",
    "total_returns = returns_per_customer.groupby('Customer number')['Returned'].count()\n",
    "actual_returns = returns_per_customer[returns_per_customer['Returned'] == 1].groupby('Customer number')['Returned'].count()\n",
    "\n",
    "returns_per_customer = returns_per_customer.drop_duplicates('Customer number')\n",
    "returns_per_customer = returns_per_customer.drop('Returned', axis=1)\n",
    "\n",
    "percentage_returned = actual_returns.divide(total_returns, fill_value=0).to_frame()\n",
    "returns_per_customer = pd.merge(returns_per_customer, percentage_returned, how='left', on='Customer number')"
   ]
  },
  {
   "cell_type": "markdown",
   "metadata": {},
   "source": [
    "## Churn analysis"
   ]
  },
  {
   "cell_type": "markdown",
   "metadata": {},
   "source": [
    "### Get dates of orders per customer"
   ]
  },
  {
   "cell_type": "code",
   "execution_count": 29,
   "metadata": {},
   "outputs": [],
   "source": [
    "dates_per_customer = df_orders[['Customer number', 'Order number', 'Order date']]\n",
    "dates_per_customer = dates_per_customer.drop_duplicates('Order number')\n",
    "dates_per_customer = dates_per_customer.drop('Order number', axis=1)"
   ]
  },
  {
   "cell_type": "code",
   "execution_count": 30,
   "metadata": {},
   "outputs": [],
   "source": [
    "customer_dates = dates_per_customer.groupby('Customer number')['Order date'].apply(lambda x: x.tolist())\n",
    "customer_dates_dict = customer_dates.to_dict()\n",
    "customer_dates = customer_dates.reset_index()"
   ]
  },
  {
   "cell_type": "markdown",
   "metadata": {},
   "source": [
    "### Calculate orders' date difference to determine churn\n",
    "    -> the algorithm calculates the days difference between two consecutive orders and gets the mean of all differences + the standart deviation of all differences\n",
    "    -> based on that we later determine if the customer has churned, using the date of his/hers last order"
   ]
  },
  {
   "cell_type": "code",
   "execution_count": 31,
   "metadata": {},
   "outputs": [],
   "source": [
    "def calculate_mean(dates):\n",
    "    days = np.empty(len(dates) - 1)\n",
    "    for i, date in enumerate(dates):\n",
    "        if i < len(dates) - 1:\n",
    "            days[i] = ((dates[i + 1] - dates[i]).days)\n",
    "\n",
    "    return round(days.mean()+days.std())"
   ]
  },
  {
   "cell_type": "code",
   "execution_count": 32,
   "metadata": {},
   "outputs": [],
   "source": [
    "churn_array = np.empty(len(customer_dates_dict.items()))\n",
    "meanstd_time_between_orders_array = np.empty(len(customer_dates_dict.items()))\n",
    "\n",
    "for i, (key, value) in enumerate(customer_dates_dict.items()):\n",
    "    meanstd_time_between_orders = calculate_mean(value)\n",
    "    if (pd.Timestamp(2017, 11, 26) - customer_dates_dict[key][-1]).days > meanstd_time_between_orders:\n",
    "        churn_array[i] = 1\n",
    "    else:\n",
    "        churn_array[i] = 0\n",
    "    meanstd_time_between_orders_array[i] = meanstd_time_between_orders"
   ]
  },
  {
   "cell_type": "markdown",
   "metadata": {},
   "source": [
    "## Drop unessecary featutures and get unique customer numbers"
   ]
  },
  {
   "cell_type": "code",
   "execution_count": 33,
   "metadata": {},
   "outputs": [],
   "source": [
    "df_orders = df_orders.drop(\n",
    "    ['Order number', 'Order date', 'EDT', 'ADT', 'Rating', 'Returned'],\n",
    "    axis=1).drop_duplicates().reset_index().drop('index', axis=1)"
   ]
  },
  {
   "cell_type": "code",
   "execution_count": 34,
   "metadata": {},
   "outputs": [],
   "source": [
    "unique_ages_gender = df_orders[['Customer number', 'Age', 'Man', 'Woman']].drop_duplicates().reset_index().drop('index', axis=1)"
   ]
  },
  {
   "cell_type": "markdown",
   "metadata": {},
   "source": [
    "## Create a dateset for customer churn analysis"
   ]
  },
  {
   "cell_type": "code",
   "execution_count": 35,
   "metadata": {},
   "outputs": [
    {
     "data": {
      "text/html": [
       "<div>\n",
       "<style scoped>\n",
       "    .dataframe tbody tr th:only-of-type {\n",
       "        vertical-align: middle;\n",
       "    }\n",
       "\n",
       "    .dataframe tbody tr th {\n",
       "        vertical-align: top;\n",
       "    }\n",
       "\n",
       "    .dataframe thead th {\n",
       "        text-align: right;\n",
       "    }\n",
       "</style>\n",
       "<table border=\"1\" class=\"dataframe\">\n",
       "  <thead>\n",
       "    <tr style=\"text-align: right;\">\n",
       "      <th></th>\n",
       "      <th>Customer number</th>\n",
       "      <th>T_between_orders</th>\n",
       "      <th>Number of orders</th>\n",
       "      <th>Average rating</th>\n",
       "      <th>Percentage returns</th>\n",
       "      <th>EDT</th>\n",
       "      <th>ADT</th>\n",
       "      <th>EDT_divided_ADT</th>\n",
       "      <th>Man</th>\n",
       "      <th>Woman</th>\n",
       "      <th>Age</th>\n",
       "      <th>Churn</th>\n",
       "    </tr>\n",
       "  </thead>\n",
       "  <tbody>\n",
       "    <tr>\n",
       "      <th>0</th>\n",
       "      <td>1004532</td>\n",
       "      <td>154.000</td>\n",
       "      <td>49</td>\n",
       "      <td>3.615</td>\n",
       "      <td>0.020</td>\n",
       "      <td>2.714</td>\n",
       "      <td>3.020</td>\n",
       "      <td>0.899</td>\n",
       "      <td>1.000</td>\n",
       "      <td>0.000</td>\n",
       "      <td>39</td>\n",
       "      <td>0.000</td>\n",
       "    </tr>\n",
       "    <tr>\n",
       "      <th>1</th>\n",
       "      <td>1004533</td>\n",
       "      <td>109.000</td>\n",
       "      <td>72</td>\n",
       "      <td>4.050</td>\n",
       "      <td>0.042</td>\n",
       "      <td>2.347</td>\n",
       "      <td>2.694</td>\n",
       "      <td>0.871</td>\n",
       "      <td>1.000</td>\n",
       "      <td>0.000</td>\n",
       "      <td>70</td>\n",
       "      <td>0.000</td>\n",
       "    </tr>\n",
       "    <tr>\n",
       "      <th>2</th>\n",
       "      <td>1004534</td>\n",
       "      <td>117.000</td>\n",
       "      <td>71</td>\n",
       "      <td>4.100</td>\n",
       "      <td>0.028</td>\n",
       "      <td>2.676</td>\n",
       "      <td>3.958</td>\n",
       "      <td>0.676</td>\n",
       "      <td>0.000</td>\n",
       "      <td>0.000</td>\n",
       "      <td>70</td>\n",
       "      <td>0.000</td>\n",
       "    </tr>\n",
       "    <tr>\n",
       "      <th>3</th>\n",
       "      <td>1004535</td>\n",
       "      <td>169.000</td>\n",
       "      <td>53</td>\n",
       "      <td>4.200</td>\n",
       "      <td>0.019</td>\n",
       "      <td>3.113</td>\n",
       "      <td>3.283</td>\n",
       "      <td>0.948</td>\n",
       "      <td>1.000</td>\n",
       "      <td>0.000</td>\n",
       "      <td>20</td>\n",
       "      <td>0.000</td>\n",
       "    </tr>\n",
       "    <tr>\n",
       "      <th>4</th>\n",
       "      <td>1004536</td>\n",
       "      <td>153.000</td>\n",
       "      <td>53</td>\n",
       "      <td>3.550</td>\n",
       "      <td>0.075</td>\n",
       "      <td>2.642</td>\n",
       "      <td>2.830</td>\n",
       "      <td>0.933</td>\n",
       "      <td>1.000</td>\n",
       "      <td>0.000</td>\n",
       "      <td>27</td>\n",
       "      <td>0.000</td>\n",
       "    </tr>\n",
       "  </tbody>\n",
       "</table>\n",
       "</div>"
      ],
      "text/plain": [
       "  Customer number  T_between_orders  Number of orders  Average rating  \\\n",
       "0         1004532           154.000                49           3.615   \n",
       "1         1004533           109.000                72           4.050   \n",
       "2         1004534           117.000                71           4.100   \n",
       "3         1004535           169.000                53           4.200   \n",
       "4         1004536           153.000                53           3.550   \n",
       "\n",
       "   Percentage returns   EDT   ADT  EDT_divided_ADT   Man  Woman  Age  Churn  \n",
       "0               0.020 2.714 3.020            0.899 1.000  0.000   39  0.000  \n",
       "1               0.042 2.347 2.694            0.871 1.000  0.000   70  0.000  \n",
       "2               0.028 2.676 3.958            0.676 0.000  0.000   70  0.000  \n",
       "3               0.019 3.113 3.283            0.948 1.000  0.000   20  0.000  \n",
       "4               0.075 2.642 2.830            0.933 1.000  0.000   27  0.000  "
      ]
     },
     "execution_count": 35,
     "metadata": {},
     "output_type": "execute_result"
    }
   ],
   "source": [
    "customer_dates['T_between_orders'] = meanstd_time_between_orders_array\n",
    "customer_dates['Number of orders'] = orders_per_customer['Number of orders']\n",
    "customer_dates['Average rating'] = rating_per_customer_avg['Average rating']\n",
    "customer_dates['Percentage returns'] = returns_per_customer['Returned']\n",
    "customer_dates['EDT'] = df_average_edt_divided_by_adt_per_customer['EDT']\n",
    "customer_dates['ADT'] = df_average_edt_divided_by_adt_per_customer['ADT']\n",
    "customer_dates['EDT_divided_ADT'] = df_average_edt_divided_by_adt_per_customer['EDT_divided_ADT']\n",
    "customer_dates['Man'] = unique_ages_gender['Man']\n",
    "customer_dates['Woman'] = unique_ages_gender['Woman']\n",
    "customer_dates['Age'] = unique_ages_gender['Age']\n",
    "customer_dates['Churn'] = churn_array\n",
    "customer_dates.drop('Order date', axis=1, inplace=True)\n",
    "customer_dates.dropna(inplace=True)\n",
    "customer_dates.head()"
   ]
  },
  {
   "cell_type": "markdown",
   "metadata": {},
   "source": [
    "## Plots"
   ]
  },
  {
   "cell_type": "code",
   "execution_count": 36,
   "metadata": {},
   "outputs": [
    {
     "data": {
      "image/png": "[encoded data removed]",
      "text/plain": [
       "<Figure size 432x288 with 1 Axes>"
      ]
     },
     "metadata": {},
     "output_type": "display_data"
    }
   ],
   "source": [
    "labels = ['Churned', 'Not churned']\n",
    "fig, ax = plt.subplots()\n",
    "x = customer_dates[customer_dates['Churn'] == 1]['Churn'].count()\n",
    "y = customer_dates[customer_dates['Churn'] == 0]['Churn'].count()\n",
    "ax.pie([x, y], labels=labels, autopct='%1.1f%%', shadow=True, startangle=90)\n",
    "ax.axis('equal')\n",
    "\n",
    "plt.show()"
   ]
  },
  {
   "cell_type": "code",
   "execution_count": 37,
   "metadata": {},
   "outputs": [
    {
     "data": {
      "image/png": "[encoded data removed]",
      "text/plain": [
       "<Figure size 432x288 with 1 Axes>"
      ]
     },
     "metadata": {},
     "output_type": "display_data"
    }
   ],
   "source": [
    "# data to plot\n",
    "n_groups = 1\n",
    "mean_edt = customer_dates['EDT'].mean()\n",
    "mean_adt = customer_dates['ADT'].mean()\n",
    "\n",
    "# create plot\n",
    "fig, ax = plt.subplots()\n",
    "index = np.arange(n_groups)\n",
    "bar_width = 0.35\n",
    "opacity = 0.8\n",
    " \n",
    "rects1 = plt.bar(index, mean_edt, 0.1,\n",
    "                 alpha=opacity,\n",
    "                 color='b',\n",
    "                 label='EDT')\n",
    " \n",
    "rects2 = plt.bar(index + 0.11, mean_adt, 0.1,\n",
    "                 alpha=opacity,\n",
    "                 color='g',\n",
    "                 label='ADT')\n",
    " \n",
    "plt.xlabel('Estimated T of delivery / Actual T of delivery')\n",
    "plt.ylabel('Days')\n",
    "plt.title('Comparison of average EDT and ADT')\n",
    "plt.tick_params(bottom=False, labelbottom=False)\n",
    "plt.legend()\n",
    "\n",
    "plt.show()"
   ]
  },
  {
   "cell_type": "code",
   "execution_count": 38,
   "metadata": {},
   "outputs": [
    {
     "data": {
      "image/png": "[encoded data removed]",
      "text/plain": [
       "<Figure size 432x288 with 1 Axes>"
      ]
     },
     "metadata": {},
     "output_type": "display_data"
    }
   ],
   "source": [
    "ax = sns.distplot(customer_dates['T_between_orders'], kde=False)\n",
    "ax.set(xlabel='Average days between orders', ylabel='Customers')\n",
    "plt.show()"
   ]
  },
  {
   "cell_type": "code",
   "execution_count": 39,
   "metadata": {},
   "outputs": [
    {
     "data": {
      "image/png": "[encoded data removed]",
      "text/plain": [
       "<Figure size 432x288 with 1 Axes>"
      ]
     },
     "metadata": {},
     "output_type": "display_data"
    }
   ],
   "source": [
    "ax = sns.distplot(customer_dates['Percentage returns'], kde=False)\n",
    "ax.set(ylabel='Customers')\n",
    "plt.show()"
   ]
  },
  {
   "cell_type": "code",
   "execution_count": 40,
   "metadata": {},
   "outputs": [
    {
     "data": {
      "image/png": "[encoded data removed]",
      "text/plain": [
       "<Figure size 432x288 with 1 Axes>"
      ]
     },
     "metadata": {},
     "output_type": "display_data"
    }
   ],
   "source": [
    "ax = sns.distplot(customer_dates['Average rating'], kde=False, \n",
    "                  hist_kws={'range':[1.75,5.5]})\n",
    "ax.set(ylabel='Customers')\n",
    "plt.show()"
   ]
  },
  {
   "cell_type": "code",
   "execution_count": 41,
   "metadata": {},
   "outputs": [
    {
     "data": {
      "text/plain": [
       "<matplotlib.axes._subplots.AxesSubplot at 0x1b586e33c88>"
      ]
     },
     "execution_count": 41,
     "metadata": {},
     "output_type": "execute_result"
    },
    {
     "data": {
      "image/png": "[encoded data removed]",
      "text/plain": [
       "<Figure size 720x576 with 2 Axes>"
      ]
     },
     "metadata": {},
     "output_type": "display_data"
    }
   ],
   "source": [
    "f, ax = plt.subplots(figsize=(10, 8))\n",
    "corr = customer_dates.corr()\n",
    "sns.heatmap(corr, mask=np.zeros_like(corr, dtype=np.bool), cmap=sns.diverging_palette(220, 10, as_cmap=True),\n",
    "            square=True, ax=ax)"
   ]
  },
  {
   "cell_type": "markdown",
   "metadata": {},
   "source": [
    "# Distribution of variables in customer churn"
   ]
  },
  {
   "cell_type": "code",
   "execution_count": 42,
   "metadata": {},
   "outputs": [],
   "source": [
    "churn     = customer_dates[customer_dates[\"Churn\"] == 1]\n",
    "not_churn = customer_dates[customer_dates[\"Churn\"] == 0]\n",
    "\n",
    "targetCol = [\"Churn\"]\n",
    "catCols = customer_dates.nunique()[customer_dates.nunique() < 6].keys().tolist()\n",
    "catCols = [x for x in catCols if x not in targetCol]\n",
    "\n",
    "numerics = ['float64', 'int64']\n",
    "numeric_df = customer_dates.select_dtypes(include=numerics)\n",
    "objects_df = customer_dates.select_dtypes(exclude=numerics)\n",
    "\n",
    "keyCol = ['Customer number']\n",
    "numCols = [x for x in customer_dates.columns if x not in catCols + keyCol + targetCol]"
   ]
  },
  {
   "cell_type": "code",
   "execution_count": 43,
   "metadata": {},
   "outputs": [],
   "source": [
    "cmap = plt.cm.Paired\n",
    "\n",
    "def pieChart(column):\n",
    "    \n",
    "    labels1 = churn[column].value_counts().keys().tolist()\n",
    "    values1 = churn[column].value_counts().values.tolist()\n",
    "\n",
    "    labels2 = not_churn[column].value_counts().keys().tolist()\n",
    "    values2 = not_churn[column].value_counts().values.tolist()\n",
    "\n",
    "    colors = cmap(np.linspace(0., 1., len(values1)))\n",
    "\n",
    "    fig, (ax1, ax2) = plt.subplots(1, 2, sharey=True, figsize=(15,7))\n",
    "\n",
    "    ax1.pie(values1, labels=labels1, autopct='%1.1f%%', startangle=90, colors=colors)\n",
    "    ax2.pie(values2, labels=labels2, autopct='%1.1f%%', startangle=90, colors=colors)\n",
    "\n",
    "    ax1.set_title(\"Churn customers\")    \n",
    "    ax2.set_title(\"Non churn customers\")    \n",
    "    fig.suptitle(column + \" distribution in customer churn\", fontsize=16)\n",
    "\n",
    "from matplotlib.ticker import PercentFormatter\n",
    "\n",
    "def histChart(column):\n",
    "    values_churn = churn[column]\n",
    "    legend = ['Churn', 'Non churn']\n",
    "    values_nonchurn = not_churn[column]\n",
    "    plt.hist([values_churn, values_nonchurn], color=['orange', 'blue'], bins=30, rwidth=0.5, density=1)\n",
    "    plt.gca().yaxis.set_major_formatter(PercentFormatter(1))\n",
    "    plt.xlabel(column)\n",
    "    plt.legend(legend)\n",
    "    plt.title(column + ' distribution in customer churn', fontsize=16)\n",
    "    plt.rcParams['figure.figsize'] = (20,7)\n",
    "    plt.show()"
   ]
  },
  {
   "cell_type": "markdown",
   "metadata": {},
   "source": [
    "### for i in numCols:\n",
    "    histChart(i)"
   ]
  }
 ],
 "metadata": {
  "kernelspec": {
   "display_name": "Python 3",
   "language": "python",
   "name": "python3"
  },
  "language_info": {
   "codemirror_mode": {
    "name": "ipython",
    "version": 3
   },
   "file_extension": ".py",
   "mimetype": "text/x-python",
   "name": "python",
   "nbconvert_exporter": "python",
   "pygments_lexer": "ipython3",
   "version": "3.6.7"
  }
 },
 "nbformat": 4,
 "nbformat_minor": 2
}
