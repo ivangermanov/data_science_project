{
 "cells": [
  {
   "cell_type": "markdown",
   "metadata": {},
   "source": [
    "# Data Preparation and cleaning"
   ]
  },
  {
   "cell_type": "markdown",
   "metadata": {},
   "source": [
    "## Libraries"
   ]
  },
  {
   "cell_type": "code",
   "execution_count": null,
   "metadata": {},
   "outputs": [],
   "source": [
    "import numpy as np\n",
    "import pandas as pd\n",
    "import datetime as dt\n",
    "\n",
    "import os\n",
    "import matplotlib.pyplot as plt\n",
    "\n",
    "%matplotlib inline\n",
    "import seaborn as sns\n",
    "\n",
    "import warnings\n",
    "warnings.filterwarnings(\"ignore\")"
   ]
  },
  {
   "cell_type": "code",
   "execution_count": null,
   "metadata": {},
   "outputs": [],
   "source": [
    "orders_path = '../orders_cleaned.csv'\n",
    "\n",
    "df_orders = pd.read_csv(orders_path,\n",
    "                        dtype=\n",
    "                        {'Customer number': object,\n",
    "                         'Gender': 'category',\n",
    "                         'PoR': object,\n",
    "                         'Order number': object,\n",
    "                         'Product number': object,\n",
    "                         'Sub category': 'category',\n",
    "                         'Category': 'category',\n",
    "                         'Count': np.int16,\n",
    "                         'Price': np.float64,\n",
    "                         'EDT': np.int16,\n",
    "                         'ADT': np.int16,\n",
    "                         'RoR': object,\n",
    "                         'Rating': np.int8})\n",
    "\n",
    "df_orders[\"Order date\"] = pd.to_datetime(df_orders[\"Order date\"], format=\"%d-%m-%Y\")\n",
    "df_orders[\"DoB\"] = pd.to_datetime(df_orders[\"DoB\"], format=\"%d-%m-%Y\")"
   ]
  },
  {
   "cell_type": "markdown",
   "metadata": {},
   "source": [
    "## Feature engineering"
   ]
  },
  {
   "cell_type": "markdown",
   "metadata": {},
   "source": [
    "### \"Returned\"\n",
    "    -> binary value\n",
    "    -> is the product retured or not"
   ]
  },
  {
   "cell_type": "code",
   "execution_count": null,
   "metadata": {},
   "outputs": [],
   "source": [
    "df_orders.loc[df_orders['RoR'].isnull(), 'Returned'] = 0\n",
    "df_orders.loc[df_orders['RoR'].notnull(), 'Returned'] = 1\n",
    "df_orders = df_orders.drop('RoR', axis=1)"
   ]
  },
  {
   "cell_type": "markdown",
   "metadata": {},
   "source": [
    "### \"Price per product\"\n",
    "    -> what is the price of the product ordered"
   ]
  },
  {
   "cell_type": "code",
   "execution_count": null,
   "metadata": {},
   "outputs": [],
   "source": [
    "df_orders['Price per Product'] = df_orders['Price'] / df_orders['Count']"
   ]
  },
  {
   "cell_type": "markdown",
   "metadata": {},
   "source": [
    "### \"Man\" / \"Woman\"\n",
    "    -> boolean values\n",
    "    -> is the gender man or woman\n",
    "    -> the method is called One-Hot-Encoding. It is done instead of changing the genders to 0 and 1 in the original column, so the models in the future can diferentiate them like categories, not numbers\n",
    "    -> as there are statistically unimportant number of missing gender values, we will make both columns 'Man' and 'Woman' = 0"
   ]
  },
  {
   "cell_type": "code",
   "execution_count": null,
   "metadata": {},
   "outputs": [],
   "source": [
    "df_orders.loc[df_orders['Gender'] == \"Man\", 'Man'] = 1\n",
    "df_orders.loc[df_orders['Gender'] == \"Woman\", 'Man'] = 0\n",
    "df_orders.loc[df_orders['Gender'] == \"Man\", 'Woman'] = 0\n",
    "df_orders.loc[df_orders['Gender'] == \"Woman\", 'Woman'] = 1"
   ]
  },
  {
   "cell_type": "code",
   "execution_count": null,
   "metadata": {},
   "outputs": [],
   "source": [
    "df_orders['Man'].replace(np.nan, 0, inplace=True)\n",
    "df_orders['Woman'].replace(np.nan, 0, inplace=True)"
   ]
  },
  {
   "cell_type": "markdown",
   "metadata": {},
   "source": [
    "### \"Age\" \n",
    "    -> based on the date of birth"
   ]
  },
  {
   "cell_type": "code",
   "execution_count": null,
   "metadata": {},
   "outputs": [],
   "source": [
    "today = dt.datetime.today()\n",
    "\n",
    "df_orders[\"DoB\"] = pd.to_datetime(df_orders[\"DoB\"], format=\"%d-%m-%Y\")\n",
    "df_orders[\"Age\"] = today.year - df_orders[\"DoB\"].dt.year - ((today.month <= df_orders[\"DoB\"].dt.month)\n",
    "                                                            & (today.day <= df_orders[\"DoB\"].dt.day))"
   ]
  },
  {
   "cell_type": "markdown",
   "metadata": {},
   "source": [
    "### \"Order month\" and \"Order year\"\n",
    "    -> separate the month and the year of an order for easier analysis"
   ]
  },
  {
   "cell_type": "code",
   "execution_count": null,
   "metadata": {},
   "outputs": [],
   "source": [
    "df_orders[\"Order date\"] = pd.to_datetime(df_orders[\"Order date\"], format=\"%d-%m-%Y\")\n",
    "df_orders[\"Order month\"] = df_orders[\"Order date\"].dt.month\n",
    "df_orders[\"Order year\"] = df_orders[\"Order date\"].dt.year"
   ]
  },
  {
   "cell_type": "markdown",
   "metadata": {},
   "source": [
    "### \"DeltaT\"\n",
    "    -> number representation of the days\n",
    "    -> the 0 day is 01-01-2013 and each next day is +1"
   ]
  },
  {
   "cell_type": "code",
   "execution_count": null,
   "metadata": {},
   "outputs": [],
   "source": [
    "first_order = pd.to_datetime(\"01-01-2013\", format=\"%d-%m-%Y\")\n",
    "df_orders[\"DeltaT\"] = (df_orders[\"Order date\"] - first_order).dt.days"
   ]
  },
  {
   "cell_type": "markdown",
   "metadata": {},
   "source": [
    "## Current information about the dataset"
   ]
  },
  {
   "cell_type": "code",
   "execution_count": null,
   "metadata": {},
   "outputs": [],
   "source": [
    "df_orders.info()"
   ]
  },
  {
   "cell_type": "markdown",
   "metadata": {},
   "source": [
    "# Exploratory Data Analysis (EDA)"
   ]
  },
  {
   "cell_type": "markdown",
   "metadata": {},
   "source": [
    "## Gender distribution"
   ]
  },
  {
   "cell_type": "code",
   "execution_count": null,
   "metadata": {},
   "outputs": [],
   "source": [
    "unique_gender = df_orders[['Customer number', 'Man', 'Woman']]\n",
    "unique_gender = unique_gender.drop_duplicates('Customer number')\n",
    "\n",
    "male = unique_gender[unique_gender['Man'] == 1]\n",
    "female = unique_gender[unique_gender['Woman'] == 1]"
   ]
  },
  {
   "cell_type": "code",
   "execution_count": null,
   "metadata": {},
   "outputs": [],
   "source": [
    "labels = 'Male', 'Female'\n",
    "sizes = [len(male), len(female)]\n",
    "\n",
    "fig1, ax1 = plt.subplots()\n",
    "ax1.pie(sizes, labels=labels, autopct='%1.1f%%', startangle=90)\n",
    "ax1.axis('equal')\n",
    "\n",
    "plt.show()"
   ]
  },
  {
   "cell_type": "markdown",
   "metadata": {},
   "source": [
    "## Age distribution"
   ]
  },
  {
   "cell_type": "code",
   "execution_count": null,
   "metadata": {},
   "outputs": [],
   "source": [
    "customers_age = df_orders[['Customer number', 'Age']]\n",
    "customers_age = customers_age.drop_duplicates('Customer number')"
   ]
  },
  {
   "cell_type": "code",
   "execution_count": null,
   "metadata": {},
   "outputs": [],
   "source": [
    "sns.set_style('darkgrid')\n",
    "x = pd.Series(customers_age['Age'], name=\"Ages\")\n",
    "plt.subplots(figsize=(10,6))\n",
    "sns.distplot(x)\n",
    "plt.title(\"Distribution of ages\")\n",
    "print()"
   ]
  },
  {
   "cell_type": "markdown",
   "metadata": {},
   "source": [
    "## Categories and subcategories"
   ]
  },
  {
   "cell_type": "code",
   "execution_count": null,
   "metadata": {},
   "outputs": [],
   "source": [
    "df_ordered_categories = df_orders.groupby(['Category', 'Sub category'])\n",
    "print(df_ordered_categories[['Category', 'Sub category']].nunique().to_string())"
   ]
  },
  {
   "cell_type": "markdown",
   "metadata": {},
   "source": [
    "## Money earned per category"
   ]
  },
  {
   "cell_type": "code",
   "execution_count": null,
   "metadata": {},
   "outputs": [],
   "source": [
    "money_per_category = df_orders.groupby(['Category'])['Price'].sum()\n",
    "pd.set_option('display.float_format', lambda x: '%.3f' % x)\n",
    "money_per_category"
   ]
  },
  {
   "cell_type": "markdown",
   "metadata": {},
   "source": [
    "## Distribution of orders per customer"
   ]
  },
  {
   "cell_type": "code",
   "execution_count": null,
   "metadata": {},
   "outputs": [],
   "source": [
    "df_orders = df_orders.sort_values(['Customer number', 'Order date'])\n",
    "\n",
    "orders_per_customer = df_orders[['Customer number', 'Order number']]\n",
    "orders_per_customer = orders_per_customer.groupby('Customer number')['Order number'].count().reset_index()\n",
    "orders_per_customer.rename(columns = {'Order number' : 'Number of orders'}, inplace=True)"
   ]
  },
  {
   "cell_type": "code",
   "execution_count": null,
   "metadata": {},
   "outputs": [],
   "source": [
    "sns.set_style('darkgrid')\n",
    "x = pd.Series(orders_per_customer['Number of orders'], name=\"Order count\")\n",
    "plt.subplots(figsize=(10,6))\n",
    "sns.distplot(x)\n",
    "plt.title(\"Distribution of orders\")\n",
    "print()"
   ]
  },
  {
   "cell_type": "markdown",
   "metadata": {},
   "source": [
    "## Replacing all -1 values with NaN in 'Rating'"
   ]
  },
  {
   "cell_type": "code",
   "execution_count": null,
   "metadata": {},
   "outputs": [],
   "source": [
    "df_orders['Rating'].replace(-1, np.nan, inplace=True)"
   ]
  },
  {
   "cell_type": "markdown",
   "metadata": {},
   "source": [
    "## Average rating per customer"
   ]
  },
  {
   "cell_type": "code",
   "execution_count": null,
   "metadata": {},
   "outputs": [],
   "source": [
    "rating_per_customer_avg = df_orders[['Customer number', 'Rating']]\n",
    "rating_per_customer_avg.head()"
   ]
  },
  {
   "cell_type": "code",
   "execution_count": null,
   "metadata": {},
   "outputs": [],
   "source": [
    "rating_per_customer_avg = rating_per_customer_avg.groupby('Customer number')['Rating'].mean().reset_index()"
   ]
  },
  {
   "cell_type": "markdown",
   "metadata": {},
   "source": [
    "### Give all people that haven't given raiting an average raiting value of -1"
   ]
  },
  {
   "cell_type": "code",
   "execution_count": null,
   "metadata": {},
   "outputs": [],
   "source": [
    "rating_per_customer_avg['Rating'].replace(np.nan, -1, inplace=True)\n",
    "rating_per_customer_avg.rename(columns = {'Rating' : 'Average rating'}, inplace=True)"
   ]
  },
  {
   "cell_type": "markdown",
   "metadata": {},
   "source": [
    "## Estimated date of arrival / actual date of arrival"
   ]
  },
  {
   "cell_type": "code",
   "execution_count": null,
   "metadata": {},
   "outputs": [],
   "source": [
    "df_average_edt_divided_by_adt_per_customer = df_orders[['Customer number', 'EDT', 'ADT']]"
   ]
  },
  {
   "cell_type": "code",
   "execution_count": null,
   "metadata": {},
   "outputs": [],
   "source": [
    "df_average_edt_divided_by_adt_per_customer = df_average_edt_divided_by_adt_per_customer.groupby('Customer number')['EDT', 'ADT'].mean().reset_index()"
   ]
  },
  {
   "cell_type": "code",
   "execution_count": null,
   "metadata": {},
   "outputs": [],
   "source": [
    "df_average_edt_divided_by_adt_per_customer.head()"
   ]
  },
  {
   "cell_type": "code",
   "execution_count": null,
   "metadata": {},
   "outputs": [],
   "source": [
    "df_average_edt_divided_by_adt_per_customer['EDT_divided_ADT'] = df_average_edt_divided_by_adt_per_customer['EDT'] / df_average_edt_divided_by_adt_per_customer['ADT']"
   ]
  },
  {
   "cell_type": "code",
   "execution_count": null,
   "metadata": {},
   "outputs": [],
   "source": [
    "df_average_edt_divided_by_adt_per_customer.head()"
   ]
  },
  {
   "cell_type": "markdown",
   "metadata": {},
   "source": [
    "## Percent returned items"
   ]
  },
  {
   "cell_type": "code",
   "execution_count": null,
   "metadata": {},
   "outputs": [],
   "source": [
    "returns_per_customer = df_orders[['Customer number', 'Returned']]\n",
    "total_returns = returns_per_customer.groupby('Customer number')['Returned'].count()\n",
    "actual_returns = returns_per_customer[returns_per_customer['Returned'] == 1].groupby('Customer number')['Returned'].count()\n",
    "\n",
    "returns_per_customer = returns_per_customer.drop_duplicates('Customer number')\n",
    "returns_per_customer = returns_per_customer.drop('Returned', axis=1)\n",
    "\n",
    "percentage_returned = actual_returns.divide(total_returns, fill_value=0).to_frame()\n",
    "returns_per_customer = pd.merge(returns_per_customer, percentage_returned, how='left', on='Customer number')"
   ]
  },
  {
   "cell_type": "markdown",
   "metadata": {},
   "source": [
    "## Churn analysis"
   ]
  },
  {
   "cell_type": "markdown",
   "metadata": {},
   "source": [
    "### Get dates of orders per customer"
   ]
  },
  {
   "cell_type": "code",
   "execution_count": null,
   "metadata": {},
   "outputs": [],
   "source": [
    "dates_per_customer = df_orders[['Customer number', 'Order number', 'Order date']]\n",
    "dates_per_customer = dates_per_customer.drop_duplicates('Order number')\n",
    "dates_per_customer = dates_per_customer.drop('Order number', axis=1)"
   ]
  },
  {
   "cell_type": "code",
   "execution_count": null,
   "metadata": {},
   "outputs": [],
   "source": [
    "customer_dates = dates_per_customer.groupby('Customer number')['Order date'].apply(lambda x: x.tolist())\n",
    "customer_dates_dict = customer_dates.to_dict()\n",
    "customer_dates = customer_dates.reset_index()"
   ]
  },
  {
   "cell_type": "markdown",
   "metadata": {},
   "source": [
    "### Calculate orders' date difference to determine churn\n",
    "    -> the algorithm calculates the days difference between two consecutive orders and gets the mean of all differences + the standart deviation of all differences\n",
    "    -> based on that we later determine if the customer has churned, using the date of his/hers last order"
   ]
  },
  {
   "cell_type": "code",
   "execution_count": null,
   "metadata": {},
   "outputs": [],
   "source": [
    "def calculate_mean(dates):\n",
    "    days = np.empty(len(dates) - 1)\n",
    "    for i, date in enumerate(dates):\n",
    "        if i < len(dates) - 1:\n",
    "            days[i] = ((dates[i + 1] - dates[i]).days)\n",
    "\n",
    "    return round(days.mean()+days.std())"
   ]
  },
  {
   "cell_type": "code",
   "execution_count": null,
   "metadata": {},
   "outputs": [],
   "source": [
    "churn_array = np.empty(len(customer_dates_dict.items()))\n",
    "meanstd_time_between_orders_array = np.empty(len(customer_dates_dict.items()))\n",
    "\n",
    "for i, (key, value) in enumerate(customer_dates_dict.items()):\n",
    "    meanstd_time_between_orders = calculate_mean(value)\n",
    "    if (pd.Timestamp(2017, 11, 26) - customer_dates_dict[key][-1]).days > meanstd_time_between_orders:\n",
    "        churn_array[i] = 1\n",
    "    else:\n",
    "        churn_array[i] = 0\n",
    "    meanstd_time_between_orders_array[i] = meanstd_time_between_orders"
   ]
  },
  {
   "cell_type": "markdown",
   "metadata": {},
   "source": [
    "## Drop unessecary featutures and get unique customer numbers"
   ]
  },
  {
   "cell_type": "code",
   "execution_count": null,
   "metadata": {},
   "outputs": [],
   "source": [
    "df_orders = df_orders.drop(\n",
    "    ['Order number', 'Order date', 'EDT', 'ADT', 'Rating', 'Returned'],\n",
    "    axis=1).drop_duplicates().reset_index().drop('index', axis=1)"
   ]
  },
  {
   "cell_type": "markdown",
   "metadata": {},
   "source": [
    "## Create a dateset for customer churn analysis"
   ]
  },
  {
   "cell_type": "code",
   "execution_count": null,
   "metadata": {},
   "outputs": [],
   "source": [
    "customer_dates['T_between_orders'] = meanstd_time_between_orders_array\n",
    "customer_dates['Number of orders'] = orders_per_customer['Number of orders']\n",
    "customer_dates['Average rating'] = rating_per_customer['Average rating']\n",
    "customer_dates['Average returns'] = returns_per_customer['Returned']\n",
    "customer_dates['EDT'] = df_average_edt_divided_by_adt_per_customer['EDT']\n",
    "customer_dates['ADT'] = df_average_edt_divided_by_adt_per_customer['ADT']\n",
    "customer_dates['EDT_divided_ADT'] = df_average_edt_divided_by_adt_per_customer['EDT_divided_ADT']\n",
    "customer_dates['Man'] = df_orders['Man']\n",
    "customer_dates['Woman'] = df_orders['Woman']\n",
    "customer_dates['Age'] = df_orders['Age']\n",
    "customer_dates['Churn'] = churn_array\n",
    "customer_dates.drop('Order date', axis=1, inplace=True)\n",
    "customer_dates.dropna(inplace=True)\n",
    "customer_dates.head()"
   ]
  },
  {
   "cell_type": "markdown",
   "metadata": {},
   "source": [
    "## Plots"
   ]
  },
  {
   "cell_type": "code",
   "execution_count": null,
   "metadata": {},
   "outputs": [],
   "source": [
    "labels = ['Churned', 'Not churned']\n",
    "fig, ax = plt.subplots()\n",
    "x = customer_dates[customer_dates['Churn'] == 1]['Churn'].count()\n",
    "y = customer_dates[customer_dates['Churn'] == 0]['Churn'].count()\n",
    "ax.pie([x, y], labels=labels, autopct='%1.1f%%', shadow=True, startangle=90)\n",
    "ax.axis('equal')\n",
    "\n",
    "plt.show()"
   ]
  },
  {
   "cell_type": "code",
   "execution_count": null,
   "metadata": {},
   "outputs": [],
   "source": [
    "# data to plot\n",
    "n_groups = 1\n",
    "mean_edt = customer_dates['EDT'].mean()\n",
    "mean_adt = customer_dates['ADT'].mean()\n",
    "\n",
    "# create plot\n",
    "fig, ax = plt.subplots()\n",
    "index = np.arange(n_groups)\n",
    "bar_width = 0.35\n",
    "opacity = 0.8\n",
    " \n",
    "rects1 = plt.bar(index, mean_edt, 0.1,\n",
    "                 alpha=opacity,\n",
    "                 color='b',\n",
    "                 label='EDT')\n",
    " \n",
    "rects2 = plt.bar(index + 0.11, mean_adt, 0.1,\n",
    "                 alpha=opacity,\n",
    "                 color='g',\n",
    "                 label='ADT')\n",
    " \n",
    "plt.xlabel('Estimated T of delivery / Actual T of delivery')\n",
    "plt.ylabel('Days')\n",
    "plt.title('Comparison of average EDT and ADT')\n",
    "plt.tick_params(bottom=False, labelbottom=False)\n",
    "plt.legend()\n",
    "\n",
    "plt.show()"
   ]
  },
  {
   "cell_type": "code",
   "execution_count": null,
   "metadata": {},
   "outputs": [],
   "source": [
    "ax = sns.distplot(customer_dates['T_between_orders'], kde=False)\n",
    "ax.set(xlabel='Average days between orders', ylabel='Customers')\n",
    "plt.show()"
   ]
  },
  {
   "cell_type": "code",
   "execution_count": null,
   "metadata": {},
   "outputs": [],
   "source": [
    "ax = sns.distplot(customer_dates['Percentage of returns'], kde=False)\n",
    "ax.set(ylabel='Customers')\n",
    "plt.show()"
   ]
  },
  {
   "cell_type": "code",
   "execution_count": null,
   "metadata": {},
   "outputs": [],
   "source": [
    "ax = sns.distplot(customer_dates['Average rating'], kde=False, \n",
    "                  hist_kws={'range':[1.75,5.5]})\n",
    "ax.set(ylabel='Customers')\n",
    "plt.show()"
   ]
  },
  {
   "cell_type": "code",
   "execution_count": null,
   "metadata": {},
   "outputs": [],
   "source": [
    "f, ax = plt.subplots(figsize=(10, 8))\n",
    "corr = customer_dates.corr()\n",
    "sns.heatmap(corr, mask=np.zeros_like(corr, dtype=np.bool), cmap=sns.diverging_palette(220, 10, as_cmap=True),\n",
    "            square=True, ax=ax)"
   ]
  }
 ],
 "metadata": {
  "kernelspec": {
   "display_name": "Python 3",
   "language": "python",
   "name": "python3"
  },
  "language_info": {
   "codemirror_mode": {
    "name": "ipython",
    "version": 3
   },
   "file_extension": ".py",
   "mimetype": "text/x-python",
   "name": "python",
   "nbconvert_exporter": "python",
   "pygments_lexer": "ipython3",
   "version": "3.6.5"
  }
 },
 "nbformat": 4,
 "nbformat_minor": 2
}
