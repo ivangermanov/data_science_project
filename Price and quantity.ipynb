{
 "cells": [
  {
   "cell_type": "markdown",
   "metadata": {},
   "source": [
    "## Importing the needed libraries"
   ]
  },
  {
   "cell_type": "code",
   "execution_count": 1,
   "metadata": {},
   "outputs": [],
   "source": [
    "import numpy as np\n",
    "import pandas as pd"
   ]
  },
  {
   "cell_type": "markdown",
   "metadata": {},
   "source": [
    "## Importing the *orders* data set"
   ]
  },
  {
   "cell_type": "code",
   "execution_count": 2,
   "metadata": {},
   "outputs": [],
   "source": [
    "orders_path = 'orders_edited.csv'"
   ]
  },
  {
   "cell_type": "markdown",
   "metadata": {},
   "source": [
    "Dob - date of birth;\n",
    "\n",
    "PoR - customer place of residence;\n",
    "\n",
    "EDT - expected delivery time;\n",
    "\n",
    "ADT - actual delivery time; \n",
    "\n",
    "RoR - reason of return"
   ]
  },
  {
   "cell_type": "code",
   "execution_count": 3,
   "metadata": {
    "scrolled": true
   },
   "outputs": [],
   "source": [
    "df_orders = pd.read_csv(orders_path,\n",
    "                        #parse_dates=['DoB', 'Order date'],\n",
    "                        dtype=\n",
    "                        {'Customer number': np.int64,\n",
    "                         'Gender': object,\n",
    "                         'PoR': object,\n",
    "                         'Order number': np.int64,\n",
    "                         'Product number': object,\n",
    "                         'Sub category': object,\n",
    "                         'Category': object,\n",
    "                         'Count': np.int16,\n",
    "                         'Price': np.float64,\n",
    "                         'EDT': np.int16,\n",
    "                         'ADT': np.int16,\n",
    "                         'RoR': object,\n",
    "                         'Rating': np.int8})"
   ]
  },
  {
   "cell_type": "code",
   "execution_count": 9,
   "metadata": {},
   "outputs": [],
   "source": [
    "df_orders['Price per product'] = df_orders['Price'] / df_orders['Count']"
   ]
  },
  {
   "cell_type": "code",
   "execution_count": 17,
   "metadata": {},
   "outputs": [
    {
     "data": {
      "text/plain": [
       "Count\n",
       "1    549.131569\n",
       "2     56.205532\n",
       "3     56.126871\n",
       "4     56.177172\n",
       "5     56.251067\n",
       "6     56.238225\n",
       "Name: Price per product, dtype: float64"
      ]
     },
     "execution_count": 17,
     "metadata": {},
     "output_type": "execute_result"
    }
   ],
   "source": [
    "df_orders.groupby('Count')['Price per product'].mean()"
   ]
  },
  {
   "cell_type": "code",
   "execution_count": 11,
   "metadata": {},
   "outputs": [
    {
     "data": {
      "text/plain": [
       "<matplotlib.axes._subplots.AxesSubplot at 0x2800c854c50>"
      ]
     },
     "execution_count": 11,
     "metadata": {},
     "output_type": "execute_result"
    },
    {
     "data": {
      "image/png": "[encoded data removed]",
      "text/plain": [
       "<Figure size 432x288 with 1 Axes>"
      ]
     },
     "metadata": {},
     "output_type": "display_data"
    }
   ],
   "source": [
    "df_orders.plot.scatter('Price per product', 'Count', 0.001)"
   ]
  }
 ],
 "metadata": {
  "kernelspec": {
   "display_name": "Python 3",
   "language": "python",
   "name": "python3"
  },
  "language_info": {
   "codemirror_mode": {
    "name": "ipython",
    "version": 3
   },
   "file_extension": ".py",
   "mimetype": "text/x-python",
   "name": "python",
   "nbconvert_exporter": "python",
   "pygments_lexer": "ipython3",
   "version": "3.6.5"
  }
 },
 "nbformat": 4,
 "nbformat_minor": 2
}
