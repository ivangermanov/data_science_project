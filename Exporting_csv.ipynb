{
 "cells": [
  {
   "cell_type": "markdown",
   "metadata": {},
   "source": [
    "# Convert provided CSV format to a better CSV format"
   ]
  },
  {
   "cell_type": "markdown",
   "metadata": {},
   "source": [
    "## Importing the needed libraries"
   ]
  },
  {
   "cell_type": "code",
   "execution_count": 1,
   "metadata": {},
   "outputs": [],
   "source": [
    "import numpy as np\n",
    "import pandas as pd"
   ]
  },
  {
   "cell_type": "markdown",
   "metadata": {},
   "source": [
    "## Importing the *orders* data set"
   ]
  },
  {
   "cell_type": "code",
   "execution_count": 2,
   "metadata": {},
   "outputs": [],
   "source": [
    "orders_path = 'orders.csv'"
   ]
  },
  {
   "cell_type": "code",
   "execution_count": 4,
   "metadata": {},
   "outputs": [
    {
     "name": "stdout",
     "output_type": "stream",
     "text": [
      "   Customer number        DoB Gender            PoR  Order number Order date  \\\n",
      "0          1063418 1944-01-15  Woman    Bloemendaal       1251137 2014-12-20   \n",
      "1          1062078 1934-01-17    Man        De Bilt       1658762 2017-11-03   \n",
      "2          1007060 1947-01-14    Man     Doetinchem        106526 2013-06-08   \n",
      "3          1063418 1944-01-15  Woman    Bloemendaal       1251137 2014-12-20   \n",
      "4          1063290 1971-01-08  Woman  Franekeradeel        439149 2015-01-06   \n",
      "\n",
      "  Product number        Sub category           Category  Count    Price  EDT  \\\n",
      "0  5146308036084       Garden chairs   Garden furniture      1  1090.82    2   \n",
      "1  8119187109467             Torches     Garden heating      6   385.92    4   \n",
      "2  6110364066490        Leaf blowers     Garden reamers      2   173.78    3   \n",
      "3  8172375031575                Hoes  Garden hand tools      4    45.64    5   \n",
      "4  8111132296154  Insects and vermin            Control      1   114.24    1   \n",
      "\n",
      "   ADT                RoR  Rating  \n",
      "0    2                NaN      -1  \n",
      "1    4                NaN      -1  \n",
      "2   -1    No reason given      -1  \n",
      "3   -1  Article is defect      -1  \n",
      "4    1                NaN      -1  \n"
     ]
    }
   ],
   "source": [
    "df_orders = pd.read_csv(\n",
    "    orders_path,\n",
    "    header=None,\n",
    "    sep='|',\n",
    "    index_col=None,\n",
    "    parse_dates=[1, 5],\n",
    "    infer_datetime_format=True,\n",
    "    encoding='latin1',\n",
    "    dtype={0: np.int64,\n",
    "           2: object,\n",
    "           3: object,\n",
    "           4: np.int64,\n",
    "           6: object,\n",
    "           7: object,\n",
    "           8: object,\n",
    "           9: np.int64,\n",
    "           10: np.float64,\n",
    "           11: np.int64,\n",
    "           12: np.int64,\n",
    "           13: object,\n",
    "           14: np.int64,\n",
    "           15: np.float64}\n",
    ")\n",
    "\n",
    "df_orders.drop(df_orders.columns[-1], axis=1, inplace=True)\n",
    "df_orders.reset_index()\n",
    "\n",
    "df_orders.columns = ['Customer number', 'DoB', 'Gender', 'PoR', 'Order number',\n",
    "           'Order date', 'Product number', 'Sub category', 'Category',\n",
    "           'Count', 'Price', 'EDT', 'ADT', 'RoR', 'Rating']"
   ]
  },
  {
   "cell_type": "code",
   "execution_count": 5,
   "metadata": {},
   "outputs": [
    {
     "data": {
      "text/plain": [
       "Customer number             int64\n",
       "DoB                datetime64[ns]\n",
       "Gender                     object\n",
       "PoR                        object\n",
       "Order number                int64\n",
       "Order date         datetime64[ns]\n",
       "Product number             object\n",
       "Sub category               object\n",
       "Category                   object\n",
       "Count                       int64\n",
       "Price                     float64\n",
       "EDT                         int64\n",
       "ADT                         int64\n",
       "RoR                        object\n",
       "Rating                      int64\n",
       "dtype: object"
      ]
     },
     "execution_count": 5,
     "metadata": {},
     "output_type": "execute_result"
    }
   ],
   "source": [
    "df_orders.dtypes"
   ]
  },
  {
   "cell_type": "code",
   "execution_count": 6,
   "metadata": {},
   "outputs": [],
   "source": [
    "df_orders[\"DoB\"] = df_orders[\"DoB\"].dt.strftime(\"%d-%m-%Y\")\n",
    "df_orders[\"Order date\"] = df_orders[\"Order date\"].dt.strftime(\"%d-%m-%Y\")"
   ]
  },
  {
   "cell_type": "code",
   "execution_count": 7,
   "metadata": {},
   "outputs": [
    {
     "name": "stdout",
     "output_type": "stream",
     "text": [
      "   Customer number         DoB Gender            PoR  Order number  \\\n",
      "0          1063418  15-01-1944  Woman    Bloemendaal       1251137   \n",
      "1          1062078  17-01-1934    Man        De Bilt       1658762   \n",
      "2          1007060  14-01-1947    Man     Doetinchem        106526   \n",
      "3          1063418  15-01-1944  Woman    Bloemendaal       1251137   \n",
      "4          1063290  08-01-1971  Woman  Franekeradeel        439149   \n",
      "\n",
      "   Order date Product number        Sub category           Category  Count  \\\n",
      "0  20-12-2014  5146308036084       Garden chairs   Garden furniture      1   \n",
      "1  03-11-2017  8119187109467             Torches     Garden heating      6   \n",
      "2  08-06-2013  6110364066490        Leaf blowers     Garden reamers      2   \n",
      "3  20-12-2014  8172375031575                Hoes  Garden hand tools      4   \n",
      "4  06-01-2015  8111132296154  Insects and vermin            Control      1   \n",
      "\n",
      "     Price  EDT  ADT                RoR  Rating  \n",
      "0  1090.82    2    2                NaN      -1  \n",
      "1   385.92    4    4                NaN      -1  \n",
      "2   173.78    3   -1    No reason given      -1  \n",
      "3    45.64    5   -1  Article is defect      -1  \n",
      "4   114.24    1    1                NaN      -1  \n"
     ]
    }
   ],
   "source": [
    "print(df_orders.head(5))"
   ]
  },
  {
   "cell_type": "code",
   "execution_count": 9,
   "metadata": {},
   "outputs": [],
   "source": [
    "df_orders.to_csv('orders_edited.csv', columns=['Customer number', 'DoB', 'Gender', 'PoR', 'Order number',\n",
    "           'Order date', 'Product number', 'Sub category', 'Category',\n",
    "           'Count', 'Price', 'EDT', 'ADT', 'RoR', 'Rating'], index=False)"
   ]
  }
 ],
 "metadata": {
  "kernelspec": {
   "display_name": "Python 3",
   "language": "python",
   "name": "python3"
  },
  "language_info": {
   "codemirror_mode": {
    "name": "ipython",
    "version": 3
   },
   "file_extension": ".py",
   "mimetype": "text/x-python",
   "name": "python",
   "nbconvert_exporter": "python",
   "pygments_lexer": "ipython3",
   "version": "3.6.5"
  }
 },
 "nbformat": 4,
 "nbformat_minor": 2
}
