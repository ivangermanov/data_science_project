{
 "cells": [
  {
   "cell_type": "markdown",
   "metadata": {},
   "source": [
    "# Churn prediction model"
   ]
  },
  {
   "cell_type": "code",
   "execution_count": 8,
   "metadata": {},
   "outputs": [],
   "source": [
    "import pandas as pd\n",
    "import os\n",
    "import matplotlib.pyplot as plt\n",
    "\n",
    "%matplotlib inline\n",
    "import seaborn as sns\n",
    "\n",
    "from sklearn.model_selection import train_test_split\n",
    "from sklearn.ensemble import RandomForestClassifier\n",
    "from sklearn.linear_model import LogisticRegression\n",
    "from sklearn.discriminant_analysis import LinearDiscriminantAnalysis\n",
    "from sklearn.tree import DecisionTreeClassifier\n",
    "from sklearn.naive_bayes import GaussianNB\n",
    "from sklearn.neighbors import KNeighborsClassifier\n",
    "from sklearn.svm import SVC\n",
    "from sklearn.metrics import confusion_matrix\n",
    "from sklearn.metrics import roc_curve\n",
    "from sklearn.metrics import accuracy_score\n",
    "from sklearn import model_selection\n",
    "from sklearn.metrics import classification_report\n",
    "from IPython.display import display\n",
    "from sklearn.metrics import roc_curve\n",
    "from sklearn.metrics import roc_auc_score\n",
    "from sklearn.cross_validation import KFold\n",
    "import warnings\n",
    "warnings.filterwarnings('ignore')"
   ]
  },
  {
   "cell_type": "code",
   "execution_count": 3,
   "metadata": {},
   "outputs": [],
   "source": [
    "orders_path = '../orders_churn.csv'\n",
    "\n",
    "df_orders = pd.read_csv(orders_path)"
   ]
  },
  {
   "cell_type": "code",
   "execution_count": 4,
   "metadata": {},
   "outputs": [
    {
     "name": "stdout",
     "output_type": "stream",
     "text": [
      "<class 'pandas.core.frame.DataFrame'>\n",
      "RangeIndex: 75835 entries, 0 to 75834\n",
      "Data columns (total 12 columns):\n",
      "Customer number       75835 non-null int64\n",
      "T_between_orders      75835 non-null float64\n",
      "Number of orders      75835 non-null int64\n",
      "Average rating        75835 non-null float64\n",
      "Percentage returns    75835 non-null float64\n",
      "EDT                   75835 non-null float64\n",
      "ADT                   75835 non-null float64\n",
      "EDT_divided_ADT       75835 non-null float64\n",
      "Man                   75835 non-null float64\n",
      "Woman                 75835 non-null float64\n",
      "Age                   75835 non-null int64\n",
      "Churn                 75835 non-null float64\n",
      "dtypes: float64(9), int64(3)\n",
      "memory usage: 6.9 MB\n"
     ]
    }
   ],
   "source": [
    "df_orders.info()"
   ]
  },
  {
   "cell_type": "code",
   "execution_count": 21,
   "metadata": {},
   "outputs": [],
   "source": [
    "keyCol = 'Customer number'\n",
    "targetCol = 'Churn'\n",
    "columns = ['T_between_orders', 'Percentage returns', 'EDT_divided_ADT']\n",
    "\n",
    "train,test = train_test_split(df_orders,test_size = .25 ,random_state = 111)\n",
    "\n",
    "#independent = [i for i in df_orders.columns if i not in keyCol + targetCol]\n",
    "\n",
    "train_X = train[columns]\n",
    "train_Y = train[targetCol]\n",
    "\n",
    "test_X  = test[columns]\n",
    "test_Y  = test[targetCol]"
   ]
  },
  {
   "cell_type": "code",
   "execution_count": 22,
   "metadata": {},
   "outputs": [
    {
     "name": "stdout",
     "output_type": "stream",
     "text": [
      "Logistic Regression: 0.881725 (0.004959)\n",
      "KNN: 0.868679 (0.006437)\n",
      "Random Forest: 0.869136 (0.005293)\n",
      "Decision Tree: 0.788698 (0.004475)\n",
      "Gaussian NB: 0.881725 (0.004959)\n"
     ]
    }
   ],
   "source": [
    "scoring = 'accuracy'\n",
    "models = []\n",
    "models.append(('Logistic Regression', LogisticRegression()))\n",
    "models.append(('KNN', KNeighborsClassifier()))\n",
    "models.append(('Random Forest', RandomForestClassifier()))\n",
    "models.append(('Decision Tree', DecisionTreeClassifier()))\n",
    "models.append(('Gaussian NB', GaussianNB()))\n",
    "results = []\n",
    "names = []\n",
    "for name, model in models:\n",
    "   kfold = model_selection.KFold(n_splits=10, random_state=111)\n",
    "   cv_results = model_selection.cross_val_score(model, train_X, train_Y, cv=kfold, scoring=scoring)\n",
    "   results.append(cv_results)\n",
    "   names.append(name)\n",
    "   msg = \"%s: %f (%f)\" % (name, cv_results.mean(), cv_results.std())\n",
    "   print(msg)"
   ]
  },
  {
   "cell_type": "code",
   "execution_count": 23,
   "metadata": {},
   "outputs": [
    {
     "data": {
      "text/plain": [
       "[]"
      ]
     },
     "execution_count": 23,
     "metadata": {},
     "output_type": "execute_result"
    },
    {
     "data": {
      "image/png": "[encoded data removed]",
      "text/plain": [
       "<Figure size 720x576 with 1 Axes>"
      ]
     },
     "metadata": {},
     "output_type": "display_data"
    }
   ],
   "source": [
    "fig = plt.figure(figsize=(10,8))\n",
    "fig.suptitle('Algorithm Comparison')\n",
    "\n",
    "ax = fig.add_subplot(111)\n",
    "plt.boxplot(results)\n",
    "ax.set_xticklabels(names)\n",
    "plt.plot()"
   ]
  },
  {
   "cell_type": "markdown",
   "metadata": {},
   "source": [
    "## Digging into the Logistic Regression algorithm"
   ]
  },
  {
   "cell_type": "code",
   "execution_count": 16,
   "metadata": {},
   "outputs": [
    {
     "name": "stdout",
     "output_type": "stream",
     "text": [
      "Accuracy score:  0.8820085447544702 \n",
      "\n",
      "Confusion matrix:\n",
      "        0  1\n",
      "0  16720  2\n",
      "1   2235  2 \n",
      "\n",
      "Classification report:\n",
      "              precision    recall  f1-score   support\n",
      "\n",
      "        0.0       0.88      1.00      0.94     16722\n",
      "        1.0       0.50      0.00      0.00      2237\n",
      "\n",
      "avg / total       0.84      0.88      0.83     18959\n",
      "\n"
     ]
    }
   ],
   "source": [
    "model = LogisticRegression()\n",
    "model.fit(train_X, train_Y)\n",
    "predictions = model.predict(test_X)\n",
    "cm = confusion_matrix(test_Y, predictions)\n",
    "df_cm = pd.DataFrame(cm)\n",
    "\n",
    "print(\"Accuracy score: \", accuracy_score(test_Y, predictions), \"\\n\")\n",
    "print(\"Confusion matrix:\\n\", df_cm, \"\\n\")\n",
    "print(\"Classification report:\\n\", classification_report(test_Y, predictions))"
   ]
  }
 ],
 "metadata": {
  "kernelspec": {
   "display_name": "Python 3",
   "language": "python",
   "name": "python3"
  },
  "language_info": {
   "codemirror_mode": {
    "name": "ipython",
    "version": 3
   },
   "file_extension": ".py",
   "mimetype": "text/x-python",
   "name": "python",
   "nbconvert_exporter": "python",
   "pygments_lexer": "ipython3",
   "version": "3.6.7"
  }
 },
 "nbformat": 4,
 "nbformat_minor": 2
}
