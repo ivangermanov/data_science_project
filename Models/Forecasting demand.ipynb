{
 "cells": [
  {
   "cell_type": "markdown",
   "metadata": {},
   "source": [
    "## Importing the needed libraries"
   ]
  },
  {
   "cell_type": "code",
   "execution_count": 1,
   "metadata": {},
   "outputs": [],
   "source": [
    "import numpy as np\n",
    "import pandas as pd\n",
    "import matplotlib.pyplot as plt\n",
    "import matplotlib\n",
    "import datetime\n",
    "\n",
    "import warnings\n",
    "warnings.filterwarnings('ignore')"
   ]
  },
  {
   "cell_type": "markdown",
   "metadata": {},
   "source": [
    "## Importing the *orders* data set"
   ]
  },
  {
   "cell_type": "code",
   "execution_count": 2,
   "metadata": {},
   "outputs": [],
   "source": [
    "orders_path = '../orders_after_cleaning.csv'"
   ]
  },
  {
   "cell_type": "markdown",
   "metadata": {},
   "source": [
    "Dob - date of birth;\n",
    "\n",
    "PoR - customer place of residence;\n",
    "\n",
    "EDT - expected delivery time;\n",
    "\n",
    "ADT - actual delivery time; \n",
    "\n",
    "RoR - reason of return"
   ]
  },
  {
   "cell_type": "code",
   "execution_count": 3,
   "metadata": {
    "scrolled": true
   },
   "outputs": [],
   "source": [
    "df_orders = pd.read_csv(orders_path,\n",
    "                        #parse_dates=['DoB', 'Order date'], //Way too slow\n",
    "                        dtype=\n",
    "                        {'Customer number': np.int64,\n",
    "                         'Gender': object,\n",
    "                         'PoR': object,\n",
    "                         'Order number': np.int64,\n",
    "                         'Product number': object,\n",
    "                         'Sub category': object,\n",
    "                         'Category': object,\n",
    "                         'Count': np.int16,\n",
    "                         'Price': np.float64,\n",
    "                         'EDT': np.int16,\n",
    "                         'ADT': np.int16,\n",
    "                         'RoR': object,\n",
    "                         'Rating': np.int8,\n",
    "                         'Returned': np.float64,\n",
    "                         'Price per Product': np.float64,\n",
    "                         'Man': np.float64,\n",
    "                         'Woman': np.float64,\n",
    "                         'Age': np.int64,\n",
    "                         'Order month': np.int64,\n",
    "                         'Order year': np.int64,\n",
    "                         'DeltaT': np.int64})"
   ]
  },
  {
   "cell_type": "markdown",
   "metadata": {},
   "source": [
    "# Forecasting demand\n",
    "Predict the demand of garden furniture for 2019."
   ]
  },
  {
   "cell_type": "code",
   "execution_count": 4,
   "metadata": {},
   "outputs": [],
   "source": [
    "df_furniture = df_orders.copy().loc[df_orders['Category']=='Garden furniture']"
   ]
  },
  {
   "cell_type": "code",
   "execution_count": 5,
   "metadata": {},
   "outputs": [
    {
     "data": {
      "text/html": [
       "<div>\n",
       "<style scoped>\n",
       "    .dataframe tbody tr th:only-of-type {\n",
       "        vertical-align: middle;\n",
       "    }\n",
       "\n",
       "    .dataframe tbody tr th {\n",
       "        vertical-align: top;\n",
       "    }\n",
       "\n",
       "    .dataframe thead th {\n",
       "        text-align: right;\n",
       "    }\n",
       "</style>\n",
       "<table border=\"1\" class=\"dataframe\">\n",
       "  <thead>\n",
       "    <tr style=\"text-align: right;\">\n",
       "      <th></th>\n",
       "      <th>Unnamed: 0</th>\n",
       "      <th>Customer number</th>\n",
       "      <th>DoB</th>\n",
       "      <th>Gender</th>\n",
       "      <th>PoR</th>\n",
       "      <th>Order number</th>\n",
       "      <th>Order date</th>\n",
       "      <th>Product number</th>\n",
       "      <th>Sub category</th>\n",
       "      <th>Category</th>\n",
       "      <th>...</th>\n",
       "      <th>RoR</th>\n",
       "      <th>Rating</th>\n",
       "      <th>Returned</th>\n",
       "      <th>Price per Product</th>\n",
       "      <th>Man</th>\n",
       "      <th>Woman</th>\n",
       "      <th>Age</th>\n",
       "      <th>Order month</th>\n",
       "      <th>Order year</th>\n",
       "      <th>DeltaT</th>\n",
       "    </tr>\n",
       "  </thead>\n",
       "  <tbody>\n",
       "    <tr>\n",
       "      <th>0</th>\n",
       "      <td>0</td>\n",
       "      <td>1063418</td>\n",
       "      <td>1944-01-15</td>\n",
       "      <td>Woman</td>\n",
       "      <td>Bloemendaal</td>\n",
       "      <td>1251137</td>\n",
       "      <td>2014-12-20</td>\n",
       "      <td>5146308036084</td>\n",
       "      <td>Garden chairs</td>\n",
       "      <td>Garden furniture</td>\n",
       "      <td>...</td>\n",
       "      <td>NaN</td>\n",
       "      <td>-1</td>\n",
       "      <td>0.0</td>\n",
       "      <td>1090.82</td>\n",
       "      <td>0.0</td>\n",
       "      <td>1.0</td>\n",
       "      <td>74</td>\n",
       "      <td>12</td>\n",
       "      <td>2014</td>\n",
       "      <td>718</td>\n",
       "    </tr>\n",
       "    <tr>\n",
       "      <th>5</th>\n",
       "      <td>5</td>\n",
       "      <td>1016474</td>\n",
       "      <td>1937-01-16</td>\n",
       "      <td>Man</td>\n",
       "      <td>Hollands Kroon</td>\n",
       "      <td>294578</td>\n",
       "      <td>2014-08-19</td>\n",
       "      <td>8188604007365</td>\n",
       "      <td>Garden chairs</td>\n",
       "      <td>Garden furniture</td>\n",
       "      <td>...</td>\n",
       "      <td>NaN</td>\n",
       "      <td>-1</td>\n",
       "      <td>0.0</td>\n",
       "      <td>940.43</td>\n",
       "      <td>1.0</td>\n",
       "      <td>0.0</td>\n",
       "      <td>81</td>\n",
       "      <td>8</td>\n",
       "      <td>2014</td>\n",
       "      <td>595</td>\n",
       "    </tr>\n",
       "    <tr>\n",
       "      <th>8</th>\n",
       "      <td>8</td>\n",
       "      <td>1018918</td>\n",
       "      <td>1974-01-07</td>\n",
       "      <td>Woman</td>\n",
       "      <td>Coevorden</td>\n",
       "      <td>1202222</td>\n",
       "      <td>2014-09-19</td>\n",
       "      <td>3193523049599</td>\n",
       "      <td>Garden sets</td>\n",
       "      <td>Garden furniture</td>\n",
       "      <td>...</td>\n",
       "      <td>No reason given</td>\n",
       "      <td>4</td>\n",
       "      <td>1.0</td>\n",
       "      <td>1079.03</td>\n",
       "      <td>0.0</td>\n",
       "      <td>1.0</td>\n",
       "      <td>44</td>\n",
       "      <td>9</td>\n",
       "      <td>2014</td>\n",
       "      <td>626</td>\n",
       "    </tr>\n",
       "    <tr>\n",
       "      <th>13</th>\n",
       "      <td>13</td>\n",
       "      <td>1018918</td>\n",
       "      <td>1974-01-07</td>\n",
       "      <td>Woman</td>\n",
       "      <td>Coevorden</td>\n",
       "      <td>1202222</td>\n",
       "      <td>2014-09-19</td>\n",
       "      <td>3188775004229</td>\n",
       "      <td>Garden chairs</td>\n",
       "      <td>Garden furniture</td>\n",
       "      <td>...</td>\n",
       "      <td>NaN</td>\n",
       "      <td>4</td>\n",
       "      <td>0.0</td>\n",
       "      <td>340.07</td>\n",
       "      <td>0.0</td>\n",
       "      <td>1.0</td>\n",
       "      <td>44</td>\n",
       "      <td>9</td>\n",
       "      <td>2014</td>\n",
       "      <td>626</td>\n",
       "    </tr>\n",
       "    <tr>\n",
       "      <th>19</th>\n",
       "      <td>19</td>\n",
       "      <td>1018918</td>\n",
       "      <td>1974-01-07</td>\n",
       "      <td>Woman</td>\n",
       "      <td>Coevorden</td>\n",
       "      <td>1202222</td>\n",
       "      <td>2014-09-19</td>\n",
       "      <td>4169424015147</td>\n",
       "      <td>Garden benches</td>\n",
       "      <td>Garden furniture</td>\n",
       "      <td>...</td>\n",
       "      <td>NaN</td>\n",
       "      <td>4</td>\n",
       "      <td>0.0</td>\n",
       "      <td>1189.15</td>\n",
       "      <td>0.0</td>\n",
       "      <td>1.0</td>\n",
       "      <td>44</td>\n",
       "      <td>9</td>\n",
       "      <td>2014</td>\n",
       "      <td>626</td>\n",
       "    </tr>\n",
       "    <tr>\n",
       "      <th>26</th>\n",
       "      <td>26</td>\n",
       "      <td>1032738</td>\n",
       "      <td>1980-01-06</td>\n",
       "      <td>Man</td>\n",
       "      <td>Waterland</td>\n",
       "      <td>997869</td>\n",
       "      <td>2013-07-20</td>\n",
       "      <td>8177666043794</td>\n",
       "      <td>Garden chairs</td>\n",
       "      <td>Garden furniture</td>\n",
       "      <td>...</td>\n",
       "      <td>NaN</td>\n",
       "      <td>-1</td>\n",
       "      <td>0.0</td>\n",
       "      <td>906.65</td>\n",
       "      <td>1.0</td>\n",
       "      <td>0.0</td>\n",
       "      <td>38</td>\n",
       "      <td>7</td>\n",
       "      <td>2013</td>\n",
       "      <td>200</td>\n",
       "    </tr>\n",
       "    <tr>\n",
       "      <th>27</th>\n",
       "      <td>27</td>\n",
       "      <td>1029598</td>\n",
       "      <td>1970-01-08</td>\n",
       "      <td>Man</td>\n",
       "      <td>Oss</td>\n",
       "      <td>1606587</td>\n",
       "      <td>2016-07-12</td>\n",
       "      <td>4146448030684</td>\n",
       "      <td>Garden chairs</td>\n",
       "      <td>Garden furniture</td>\n",
       "      <td>...</td>\n",
       "      <td>NaN</td>\n",
       "      <td>-1</td>\n",
       "      <td>0.0</td>\n",
       "      <td>248.06</td>\n",
       "      <td>1.0</td>\n",
       "      <td>0.0</td>\n",
       "      <td>48</td>\n",
       "      <td>7</td>\n",
       "      <td>2016</td>\n",
       "      <td>1288</td>\n",
       "    </tr>\n",
       "    <tr>\n",
       "      <th>38</th>\n",
       "      <td>38</td>\n",
       "      <td>1018702</td>\n",
       "      <td>1990-01-03</td>\n",
       "      <td>Man</td>\n",
       "      <td>Terschelling</td>\n",
       "      <td>1433754</td>\n",
       "      <td>2015-12-31</td>\n",
       "      <td>5100706141917</td>\n",
       "      <td>Sun beds</td>\n",
       "      <td>Garden furniture</td>\n",
       "      <td>...</td>\n",
       "      <td>NaN</td>\n",
       "      <td>-1</td>\n",
       "      <td>0.0</td>\n",
       "      <td>66.82</td>\n",
       "      <td>1.0</td>\n",
       "      <td>0.0</td>\n",
       "      <td>28</td>\n",
       "      <td>12</td>\n",
       "      <td>2015</td>\n",
       "      <td>1094</td>\n",
       "    </tr>\n",
       "    <tr>\n",
       "      <th>43</th>\n",
       "      <td>43</td>\n",
       "      <td>1060208</td>\n",
       "      <td>1934-01-17</td>\n",
       "      <td>Man</td>\n",
       "      <td>Korendijk</td>\n",
       "      <td>255450</td>\n",
       "      <td>2014-02-06</td>\n",
       "      <td>1130770100774</td>\n",
       "      <td>Sun beds</td>\n",
       "      <td>Garden furniture</td>\n",
       "      <td>...</td>\n",
       "      <td>NaN</td>\n",
       "      <td>-1</td>\n",
       "      <td>0.0</td>\n",
       "      <td>72.87</td>\n",
       "      <td>1.0</td>\n",
       "      <td>0.0</td>\n",
       "      <td>84</td>\n",
       "      <td>2</td>\n",
       "      <td>2014</td>\n",
       "      <td>401</td>\n",
       "    </tr>\n",
       "    <tr>\n",
       "      <th>53</th>\n",
       "      <td>53</td>\n",
       "      <td>1068164</td>\n",
       "      <td>1965-01-09</td>\n",
       "      <td>Man</td>\n",
       "      <td>Alphen aan den Rijn</td>\n",
       "      <td>417413</td>\n",
       "      <td>2015-04-20</td>\n",
       "      <td>2142622044388</td>\n",
       "      <td>Garden sets</td>\n",
       "      <td>Garden furniture</td>\n",
       "      <td>...</td>\n",
       "      <td>NaN</td>\n",
       "      <td>-1</td>\n",
       "      <td>0.0</td>\n",
       "      <td>944.79</td>\n",
       "      <td>1.0</td>\n",
       "      <td>0.0</td>\n",
       "      <td>53</td>\n",
       "      <td>4</td>\n",
       "      <td>2015</td>\n",
       "      <td>839</td>\n",
       "    </tr>\n",
       "  </tbody>\n",
       "</table>\n",
       "<p>10 rows × 24 columns</p>\n",
       "</div>"
      ],
      "text/plain": [
       "    Unnamed: 0  Customer number         DoB Gender                  PoR  \\\n",
       "0            0          1063418  1944-01-15  Woman          Bloemendaal   \n",
       "5            5          1016474  1937-01-16    Man       Hollands Kroon   \n",
       "8            8          1018918  1974-01-07  Woman            Coevorden   \n",
       "13          13          1018918  1974-01-07  Woman            Coevorden   \n",
       "19          19          1018918  1974-01-07  Woman            Coevorden   \n",
       "26          26          1032738  1980-01-06    Man            Waterland   \n",
       "27          27          1029598  1970-01-08    Man                  Oss   \n",
       "38          38          1018702  1990-01-03    Man         Terschelling   \n",
       "43          43          1060208  1934-01-17    Man            Korendijk   \n",
       "53          53          1068164  1965-01-09    Man  Alphen aan den Rijn   \n",
       "\n",
       "    Order number  Order date Product number    Sub category          Category  \\\n",
       "0        1251137  2014-12-20  5146308036084   Garden chairs  Garden furniture   \n",
       "5         294578  2014-08-19  8188604007365   Garden chairs  Garden furniture   \n",
       "8        1202222  2014-09-19  3193523049599     Garden sets  Garden furniture   \n",
       "13       1202222  2014-09-19  3188775004229   Garden chairs  Garden furniture   \n",
       "19       1202222  2014-09-19  4169424015147  Garden benches  Garden furniture   \n",
       "26        997869  2013-07-20  8177666043794   Garden chairs  Garden furniture   \n",
       "27       1606587  2016-07-12  4146448030684   Garden chairs  Garden furniture   \n",
       "38       1433754  2015-12-31  5100706141917        Sun beds  Garden furniture   \n",
       "43        255450  2014-02-06  1130770100774        Sun beds  Garden furniture   \n",
       "53        417413  2015-04-20  2142622044388     Garden sets  Garden furniture   \n",
       "\n",
       "     ...                RoR  Rating  Returned  Price per Product  Man  Woman  \\\n",
       "0    ...                NaN      -1       0.0            1090.82  0.0    1.0   \n",
       "5    ...                NaN      -1       0.0             940.43  1.0    0.0   \n",
       "8    ...    No reason given       4       1.0            1079.03  0.0    1.0   \n",
       "13   ...                NaN       4       0.0             340.07  0.0    1.0   \n",
       "19   ...                NaN       4       0.0            1189.15  0.0    1.0   \n",
       "26   ...                NaN      -1       0.0             906.65  1.0    0.0   \n",
       "27   ...                NaN      -1       0.0             248.06  1.0    0.0   \n",
       "38   ...                NaN      -1       0.0              66.82  1.0    0.0   \n",
       "43   ...                NaN      -1       0.0              72.87  1.0    0.0   \n",
       "53   ...                NaN      -1       0.0             944.79  1.0    0.0   \n",
       "\n",
       "    Age  Order month  Order year  DeltaT  \n",
       "0    74           12        2014     718  \n",
       "5    81            8        2014     595  \n",
       "8    44            9        2014     626  \n",
       "13   44            9        2014     626  \n",
       "19   44            9        2014     626  \n",
       "26   38            7        2013     200  \n",
       "27   48            7        2016    1288  \n",
       "38   28           12        2015    1094  \n",
       "43   84            2        2014     401  \n",
       "53   53            4        2015     839  \n",
       "\n",
       "[10 rows x 24 columns]"
      ]
     },
     "execution_count": 5,
     "metadata": {},
     "output_type": "execute_result"
    }
   ],
   "source": [
    "df_furniture.head(10)"
   ]
  },
  {
   "cell_type": "markdown",
   "metadata": {},
   "source": [
    "## Sort all the orders by order date. Group by the date and sum the quantity."
   ]
  },
  {
   "cell_type": "code",
   "execution_count": 6,
   "metadata": {},
   "outputs": [
    {
     "data": {
      "text/html": [
       "<div>\n",
       "<style scoped>\n",
       "    .dataframe tbody tr th:only-of-type {\n",
       "        vertical-align: middle;\n",
       "    }\n",
       "\n",
       "    .dataframe tbody tr th {\n",
       "        vertical-align: top;\n",
       "    }\n",
       "\n",
       "    .dataframe thead th {\n",
       "        text-align: right;\n",
       "    }\n",
       "</style>\n",
       "<table border=\"1\" class=\"dataframe\">\n",
       "  <thead>\n",
       "    <tr style=\"text-align: right;\">\n",
       "      <th></th>\n",
       "      <th>Count</th>\n",
       "    </tr>\n",
       "    <tr>\n",
       "      <th>Order date</th>\n",
       "      <th></th>\n",
       "    </tr>\n",
       "  </thead>\n",
       "  <tbody>\n",
       "    <tr>\n",
       "      <th>2013-01-01</th>\n",
       "      <td>1844</td>\n",
       "    </tr>\n",
       "    <tr>\n",
       "      <th>2013-01-02</th>\n",
       "      <td>1350</td>\n",
       "    </tr>\n",
       "    <tr>\n",
       "      <th>2013-01-03</th>\n",
       "      <td>1878</td>\n",
       "    </tr>\n",
       "    <tr>\n",
       "      <th>2013-01-04</th>\n",
       "      <td>980</td>\n",
       "    </tr>\n",
       "    <tr>\n",
       "      <th>2013-01-05</th>\n",
       "      <td>966</td>\n",
       "    </tr>\n",
       "    <tr>\n",
       "      <th>2013-01-06</th>\n",
       "      <td>324</td>\n",
       "    </tr>\n",
       "    <tr>\n",
       "      <th>2013-01-07</th>\n",
       "      <td>1744</td>\n",
       "    </tr>\n",
       "    <tr>\n",
       "      <th>2013-01-08</th>\n",
       "      <td>1632</td>\n",
       "    </tr>\n",
       "    <tr>\n",
       "      <th>2013-01-09</th>\n",
       "      <td>465</td>\n",
       "    </tr>\n",
       "    <tr>\n",
       "      <th>2013-01-10</th>\n",
       "      <td>558</td>\n",
       "    </tr>\n",
       "  </tbody>\n",
       "</table>\n",
       "</div>"
      ],
      "text/plain": [
       "            Count\n",
       "Order date       \n",
       "2013-01-01   1844\n",
       "2013-01-02   1350\n",
       "2013-01-03   1878\n",
       "2013-01-04    980\n",
       "2013-01-05    966\n",
       "2013-01-06    324\n",
       "2013-01-07   1744\n",
       "2013-01-08   1632\n",
       "2013-01-09    465\n",
       "2013-01-10    558"
      ]
     },
     "execution_count": 6,
     "metadata": {},
     "output_type": "execute_result"
    }
   ],
   "source": [
    "df_furniture['Order date'] = pd.to_datetime(df_furniture[\"Order date\"], format=\"%Y-%m-%d\")\n",
    "df_furniture = df_furniture.sort_values('Order date')\n",
    "df_furniture = df_furniture.groupby('Order date')['Count'].sum().reset_index()\n",
    "df_furniture = df_furniture.set_index('Order date')\n",
    "df_furniture.head(10)"
   ]
  },
  {
   "cell_type": "markdown",
   "metadata": {},
   "source": [
    "## Apply ARIMA model to predict sales\n",
    "The used prediction model is ARIMA. This is because it is a model for forecasting and predicting timeseries.  \n",
    "This is perfect for our usecase."
   ]
  },
  {
   "cell_type": "code",
   "execution_count": 7,
   "metadata": {},
   "outputs": [],
   "source": [
    "from statsmodels.tsa.arima_model import ARIMA"
   ]
  },
  {
   "cell_type": "code",
   "execution_count": 8,
   "metadata": {},
   "outputs": [],
   "source": [
    "model = ARIMA(df_furniture['Count'], order=(5,0,0), freq=\"D\")\n",
    "results = model.fit(disp=0)"
   ]
  },
  {
   "cell_type": "code",
   "execution_count": 9,
   "metadata": {},
   "outputs": [],
   "source": [
    "forecast = results.predict(start = '01/01/2013', end = '01/01/2019')"
   ]
  },
  {
   "cell_type": "markdown",
   "metadata": {},
   "source": [
    "Generate a graph with the actual and the predicted data"
   ]
  },
  {
   "cell_type": "code",
   "execution_count": 10,
   "metadata": {},
   "outputs": [
    {
     "data": {
      "image/png": "[encoded data removed]",
      "text/plain": [
       "<Figure size 1080x432 with 1 Axes>"
      ]
     },
     "metadata": {
      "needs_background": "light"
     },
     "output_type": "display_data"
    }
   ],
   "source": [
    "resampled = df_furniture['Count'].resample('MS').mean()\n",
    "resampled.plot(figsize=(15, 6), label=\"Actual\")\n",
    "resampled_forecast = forecast.resample('MS').mean()\n",
    "resampled_forecast.plot(figsize=(15, 6), label=\"Predicted\")\n",
    "plt.ylabel('Sales')\n",
    "plt.title('Figure 1. Actual and predicted sales grouped by month')\n",
    "plt.legend()\n",
    "plt.show()"
   ]
  },
  {
   "cell_type": "markdown",
   "metadata": {},
   "source": [
    "Calculate the mean squared error"
   ]
  },
  {
   "cell_type": "code",
   "execution_count": 11,
   "metadata": {},
   "outputs": [
    {
     "name": "stdout",
     "output_type": "stream",
     "text": [
      "Test MSE: 291042.419\n"
     ]
    }
   ],
   "source": [
    "from sklearn.metrics import mean_squared_error\n",
    "test_score = mean_squared_error(df_furniture['Count'][1:], forecast[1:len(df_furniture['Count'])])\n",
    "print('Test MSE: %.3f' % test_score)"
   ]
  },
  {
   "cell_type": "markdown",
   "metadata": {},
   "source": [
    "Plot residual errors"
   ]
  },
  {
   "cell_type": "code",
   "execution_count": 12,
   "metadata": {},
   "outputs": [
    {
     "data": {
      "image/png": "[encoded data removed]",
      "text/plain": [
       "<Figure size 432x288 with 1 Axes>"
      ]
     },
     "metadata": {
      "needs_background": "light"
     },
     "output_type": "display_data"
    },
    {
     "data": {
      "image/png": "[encoded data removed]",
      "text/plain": [
       "<Figure size 432x288 with 1 Axes>"
      ]
     },
     "metadata": {
      "needs_background": "light"
     },
     "output_type": "display_data"
    },
    {
     "name": "stdout",
     "output_type": "stream",
     "text": [
      "                 0\n",
      "count  1826.000000\n",
      "mean      0.001023\n",
      "std     539.725104\n",
      "min    -976.557144\n",
      "25%    -465.129647\n",
      "50%       6.153896\n",
      "75%     463.499397\n",
      "max    1125.068985\n"
     ]
    }
   ],
   "source": [
    "residuals = pd.DataFrame(results.resid)\n",
    "residuals.plot()\n",
    "plt.ylabel('Residuals')\n",
    "plt.legend().remove()\n",
    "plt.title(\"Figure 2. Residuals per day\")\n",
    "plt.show()\n",
    "residuals.plot(kind='kde', label=\"Residuals\")\n",
    "plt.xlabel('Residuals')\n",
    "plt.legend().remove()\n",
    "plt.title(\"Figure 3. Residuals per density\")\n",
    "plt.show()\n",
    "print(residuals.describe())"
   ]
  },
  {
   "cell_type": "markdown",
   "metadata": {},
   "source": [
    "## Conclusion\n",
    "Figure 1 shows that there are no patterns in the sales. This makes it very hard to create an accurate model.\n",
    "The results show that the predictions are around the mean.\n",
    "In figures 2 and 3 it is shown that the error rate is mostly within 1000 sales. This is not very good.\n",
    "\n",
    "If there were some patterns in the sales numbers the predictions would be more accurate."
   ]
  },
  {
   "cell_type": "code",
   "execution_count": null,
   "metadata": {},
   "outputs": [],
   "source": []
  }
 ],
 "metadata": {
  "kernelspec": {
   "display_name": "Python 3",
   "language": "python",
   "name": "python3"
  },
  "language_info": {
   "codemirror_mode": {
    "name": "ipython",
    "version": 3
   },
   "file_extension": ".py",
   "mimetype": "text/x-python",
   "name": "python",
   "nbconvert_exporter": "python",
   "pygments_lexer": "ipython3",
   "version": "3.7.0"
  }
 },
 "nbformat": 4,
 "nbformat_minor": 2
}
