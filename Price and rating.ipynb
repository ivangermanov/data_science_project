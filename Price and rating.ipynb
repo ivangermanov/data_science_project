{
 "cells": [
  {
   "cell_type": "markdown",
   "metadata": {},
   "source": [
    "## Importing the needed libraries"
   ]
  },
  {
   "cell_type": "code",
   "execution_count": 1,
   "metadata": {},
   "outputs": [],
   "source": [
    "import numpy as np\n",
    "import pandas as pd"
   ]
  },
  {
   "cell_type": "markdown",
   "metadata": {},
   "source": [
    "## Importing the *orders* data set"
   ]
  },
  {
   "cell_type": "code",
   "execution_count": 2,
   "metadata": {},
   "outputs": [],
   "source": [
    "orders_path = 'orders_edited.csv'"
   ]
  },
  {
   "cell_type": "markdown",
   "metadata": {},
   "source": [
    "Dob - date of birth;\n",
    "\n",
    "PoR - customer place of residence;\n",
    "\n",
    "EDT - expected delivery time;\n",
    "\n",
    "ADT - actual delivery time; \n",
    "\n",
    "RoR - reason of return"
   ]
  },
  {
   "cell_type": "code",
   "execution_count": 3,
   "metadata": {
    "scrolled": true
   },
   "outputs": [],
   "source": [
    "df_orders = pd.read_csv(orders_path,\n",
    "                        #parse_dates=['DoB', 'Order date'],\n",
    "                        dtype=\n",
    "                        {'Customer number': np.int64,\n",
    "                         'Gender': object,\n",
    "                         'PoR': object,\n",
    "                         'Order number': np.int64,\n",
    "                         'Product number': object,\n",
    "                         'Sub category': object,\n",
    "                         'Category': object,\n",
    "                         'Count': np.int16,\n",
    "                         'Price': np.float64,\n",
    "                         'EDT': np.int16,\n",
    "                         'ADT': np.int16,\n",
    "                         'RoR': object,\n",
    "                         'Rating': np.int8})"
   ]
  },
  {
   "cell_type": "code",
   "execution_count": 4,
   "metadata": {},
   "outputs": [
    {
     "data": {
      "text/html": [
       "<div>\n",
       "<style scoped>\n",
       "    .dataframe tbody tr th:only-of-type {\n",
       "        vertical-align: middle;\n",
       "    }\n",
       "\n",
       "    .dataframe tbody tr th {\n",
       "        vertical-align: top;\n",
       "    }\n",
       "\n",
       "    .dataframe thead th {\n",
       "        text-align: right;\n",
       "    }\n",
       "</style>\n",
       "<table border=\"1\" class=\"dataframe\">\n",
       "  <thead>\n",
       "    <tr style=\"text-align: right;\">\n",
       "      <th></th>\n",
       "      <th>Customer number</th>\n",
       "      <th>DoB</th>\n",
       "      <th>Gender</th>\n",
       "      <th>PoR</th>\n",
       "      <th>Order number</th>\n",
       "      <th>Order date</th>\n",
       "      <th>Product number</th>\n",
       "      <th>Sub category</th>\n",
       "      <th>Category</th>\n",
       "      <th>Count</th>\n",
       "      <th>Price</th>\n",
       "      <th>EDT</th>\n",
       "      <th>ADT</th>\n",
       "      <th>RoR</th>\n",
       "      <th>Rating</th>\n",
       "    </tr>\n",
       "  </thead>\n",
       "  <tbody>\n",
       "    <tr>\n",
       "      <th>7</th>\n",
       "      <td>1021820</td>\n",
       "      <td>10-01-1963</td>\n",
       "      <td>Man</td>\n",
       "      <td>Vlagtwedde</td>\n",
       "      <td>1590282</td>\n",
       "      <td>11-11-2016</td>\n",
       "      <td>5181402017768</td>\n",
       "      <td>Pruning shears</td>\n",
       "      <td>Pruning</td>\n",
       "      <td>1</td>\n",
       "      <td>103.16</td>\n",
       "      <td>1</td>\n",
       "      <td>1</td>\n",
       "      <td>NaN</td>\n",
       "      <td>4</td>\n",
       "    </tr>\n",
       "    <tr>\n",
       "      <th>8</th>\n",
       "      <td>1018918</td>\n",
       "      <td>07-01-1974</td>\n",
       "      <td>Woman</td>\n",
       "      <td>Coevorden</td>\n",
       "      <td>1202222</td>\n",
       "      <td>19-09-2014</td>\n",
       "      <td>3193523049599</td>\n",
       "      <td>Garden sets</td>\n",
       "      <td>Garden furniture</td>\n",
       "      <td>1</td>\n",
       "      <td>1079.03</td>\n",
       "      <td>3</td>\n",
       "      <td>-1</td>\n",
       "      <td>No reason given</td>\n",
       "      <td>4</td>\n",
       "    </tr>\n",
       "    <tr>\n",
       "      <th>13</th>\n",
       "      <td>1018918</td>\n",
       "      <td>07-01-1974</td>\n",
       "      <td>Woman</td>\n",
       "      <td>Coevorden</td>\n",
       "      <td>1202222</td>\n",
       "      <td>19-09-2014</td>\n",
       "      <td>3188775004229</td>\n",
       "      <td>Garden chairs</td>\n",
       "      <td>Garden furniture</td>\n",
       "      <td>1</td>\n",
       "      <td>340.07</td>\n",
       "      <td>3</td>\n",
       "      <td>3</td>\n",
       "      <td>NaN</td>\n",
       "      <td>4</td>\n",
       "    </tr>\n",
       "    <tr>\n",
       "      <th>14</th>\n",
       "      <td>1005006</td>\n",
       "      <td>08-01-1972</td>\n",
       "      <td>Man</td>\n",
       "      <td>Enschede</td>\n",
       "      <td>120659</td>\n",
       "      <td>09-03-2013</td>\n",
       "      <td>1102885267888</td>\n",
       "      <td>Insects and vermin</td>\n",
       "      <td>Control</td>\n",
       "      <td>4</td>\n",
       "      <td>62.84</td>\n",
       "      <td>1</td>\n",
       "      <td>1</td>\n",
       "      <td>NaN</td>\n",
       "      <td>4</td>\n",
       "    </tr>\n",
       "    <tr>\n",
       "      <th>15</th>\n",
       "      <td>1075732</td>\n",
       "      <td>11-01-1960</td>\n",
       "      <td>Man</td>\n",
       "      <td>Sittard-Geleen</td>\n",
       "      <td>1446799</td>\n",
       "      <td>26-01-2016</td>\n",
       "      <td>3132177221081</td>\n",
       "      <td>Insects and vermin</td>\n",
       "      <td>Control</td>\n",
       "      <td>2</td>\n",
       "      <td>41.90</td>\n",
       "      <td>1</td>\n",
       "      <td>1</td>\n",
       "      <td>NaN</td>\n",
       "      <td>4</td>\n",
       "    </tr>\n",
       "    <tr>\n",
       "      <th>19</th>\n",
       "      <td>1018918</td>\n",
       "      <td>07-01-1974</td>\n",
       "      <td>Woman</td>\n",
       "      <td>Coevorden</td>\n",
       "      <td>1202222</td>\n",
       "      <td>19-09-2014</td>\n",
       "      <td>4169424015147</td>\n",
       "      <td>Garden benches</td>\n",
       "      <td>Garden furniture</td>\n",
       "      <td>1</td>\n",
       "      <td>1189.15</td>\n",
       "      <td>1</td>\n",
       "      <td>3</td>\n",
       "      <td>NaN</td>\n",
       "      <td>4</td>\n",
       "    </tr>\n",
       "    <tr>\n",
       "      <th>30</th>\n",
       "      <td>1057516</td>\n",
       "      <td>12-01-1956</td>\n",
       "      <td>Man</td>\n",
       "      <td>Landsmeer</td>\n",
       "      <td>1476149</td>\n",
       "      <td>04-03-2016</td>\n",
       "      <td>5155582160880</td>\n",
       "      <td>Party tents</td>\n",
       "      <td>Sun protection</td>\n",
       "      <td>1</td>\n",
       "      <td>742.39</td>\n",
       "      <td>3</td>\n",
       "      <td>3</td>\n",
       "      <td>NaN</td>\n",
       "      <td>4</td>\n",
       "    </tr>\n",
       "    <tr>\n",
       "      <th>35</th>\n",
       "      <td>1018918</td>\n",
       "      <td>07-01-1974</td>\n",
       "      <td>Woman</td>\n",
       "      <td>Coevorden</td>\n",
       "      <td>1202222</td>\n",
       "      <td>19-09-2014</td>\n",
       "      <td>3131390056883</td>\n",
       "      <td>Pruning shears</td>\n",
       "      <td>Pruning</td>\n",
       "      <td>5</td>\n",
       "      <td>255.25</td>\n",
       "      <td>1</td>\n",
       "      <td>3</td>\n",
       "      <td>NaN</td>\n",
       "      <td>4</td>\n",
       "    </tr>\n",
       "    <tr>\n",
       "      <th>36</th>\n",
       "      <td>1046028</td>\n",
       "      <td>02-01-1993</td>\n",
       "      <td>Man</td>\n",
       "      <td>Sluis</td>\n",
       "      <td>1602242</td>\n",
       "      <td>29-11-2016</td>\n",
       "      <td>8177658172532</td>\n",
       "      <td>Garden statues</td>\n",
       "      <td>Garden decoration</td>\n",
       "      <td>1</td>\n",
       "      <td>389.90</td>\n",
       "      <td>4</td>\n",
       "      <td>4</td>\n",
       "      <td>NaN</td>\n",
       "      <td>4</td>\n",
       "    </tr>\n",
       "    <tr>\n",
       "      <th>41</th>\n",
       "      <td>1031000</td>\n",
       "      <td>18-01-1932</td>\n",
       "      <td>Man</td>\n",
       "      <td>'s-Gravenhage</td>\n",
       "      <td>1552241</td>\n",
       "      <td>31-08-2016</td>\n",
       "      <td>3137610130975</td>\n",
       "      <td>Garden statues</td>\n",
       "      <td>Garden decoration</td>\n",
       "      <td>1</td>\n",
       "      <td>358.70</td>\n",
       "      <td>1</td>\n",
       "      <td>1</td>\n",
       "      <td>NaN</td>\n",
       "      <td>4</td>\n",
       "    </tr>\n",
       "  </tbody>\n",
       "</table>\n",
       "</div>"
      ],
      "text/plain": [
       "    Customer number         DoB Gender             PoR  Order number  \\\n",
       "7           1021820  10-01-1963    Man      Vlagtwedde       1590282   \n",
       "8           1018918  07-01-1974  Woman       Coevorden       1202222   \n",
       "13          1018918  07-01-1974  Woman       Coevorden       1202222   \n",
       "14          1005006  08-01-1972    Man        Enschede        120659   \n",
       "15          1075732  11-01-1960    Man  Sittard-Geleen       1446799   \n",
       "19          1018918  07-01-1974  Woman       Coevorden       1202222   \n",
       "30          1057516  12-01-1956    Man       Landsmeer       1476149   \n",
       "35          1018918  07-01-1974  Woman       Coevorden       1202222   \n",
       "36          1046028  02-01-1993    Man           Sluis       1602242   \n",
       "41          1031000  18-01-1932    Man   's-Gravenhage       1552241   \n",
       "\n",
       "    Order date Product number        Sub category           Category  Count  \\\n",
       "7   11-11-2016  5181402017768      Pruning shears            Pruning      1   \n",
       "8   19-09-2014  3193523049599         Garden sets   Garden furniture      1   \n",
       "13  19-09-2014  3188775004229       Garden chairs   Garden furniture      1   \n",
       "14  09-03-2013  1102885267888  Insects and vermin            Control      4   \n",
       "15  26-01-2016  3132177221081  Insects and vermin            Control      2   \n",
       "19  19-09-2014  4169424015147      Garden benches   Garden furniture      1   \n",
       "30  04-03-2016  5155582160880         Party tents     Sun protection      1   \n",
       "35  19-09-2014  3131390056883      Pruning shears            Pruning      5   \n",
       "36  29-11-2016  8177658172532      Garden statues  Garden decoration      1   \n",
       "41  31-08-2016  3137610130975      Garden statues  Garden decoration      1   \n",
       "\n",
       "      Price  EDT  ADT              RoR  Rating  \n",
       "7    103.16    1    1              NaN       4  \n",
       "8   1079.03    3   -1  No reason given       4  \n",
       "13   340.07    3    3              NaN       4  \n",
       "14    62.84    1    1              NaN       4  \n",
       "15    41.90    1    1              NaN       4  \n",
       "19  1189.15    1    3              NaN       4  \n",
       "30   742.39    3    3              NaN       4  \n",
       "35   255.25    1    3              NaN       4  \n",
       "36   389.90    4    4              NaN       4  \n",
       "41   358.70    1    1              NaN       4  "
      ]
     },
     "execution_count": 4,
     "metadata": {},
     "output_type": "execute_result"
    }
   ],
   "source": [
    "df_rated_orders = df_orders[df_orders['Rating'] != -1]\n",
    "df_rated_orders.head(10)"
   ]
  },
  {
   "cell_type": "code",
   "execution_count": 11,
   "metadata": {},
   "outputs": [
    {
     "name": "stderr",
     "output_type": "stream",
     "text": [
      "C:\\ProgramData\\Anaconda3\\lib\\site-packages\\ipykernel_launcher.py:1: SettingWithCopyWarning: \n",
      "A value is trying to be set on a copy of a slice from a DataFrame.\n",
      "Try using .loc[row_indexer,col_indexer] = value instead\n",
      "\n",
      "See the caveats in the documentation: http://pandas.pydata.org/pandas-docs/stable/indexing.html#indexing-view-versus-copy\n",
      "  \"\"\"Entry point for launching an IPython kernel.\n"
     ]
    }
   ],
   "source": [
    "df_rated_orders['Price per product'] = df_rated_orders['Price'] / df_rated_orders['Count']"
   ]
  },
  {
   "cell_type": "code",
   "execution_count": 12,
   "metadata": {},
   "outputs": [
    {
     "data": {
      "text/plain": [
       "Rating\n",
       "1    439.838923\n",
       "2    444.483583\n",
       "3    442.749297\n",
       "4    441.743337\n",
       "5    441.536252\n",
       "Name: Price per product, dtype: float64"
      ]
     },
     "execution_count": 12,
     "metadata": {},
     "output_type": "execute_result"
    }
   ],
   "source": [
    "df_rated_orders.groupby('Rating')['Price per product'].mean()"
   ]
  },
  {
   "cell_type": "code",
   "execution_count": 13,
   "metadata": {},
   "outputs": [
    {
     "data": {
      "text/plain": [
       "<matplotlib.axes._subplots.AxesSubplot at 0x1e2a196b3c8>"
      ]
     },
     "execution_count": 13,
     "metadata": {},
     "output_type": "execute_result"
    },
    {
     "data": {
      "image/png": "[encoded data removed]",
      "text/plain": [
       "<Figure size 432x288 with 1 Axes>"
      ]
     },
     "metadata": {},
     "output_type": "display_data"
    }
   ],
   "source": [
    "df_rated_orders.plot.scatter('Price per product', 'Rating', 0.001)"
   ]
  },
  {
   "cell_type": "code",
   "execution_count": null,
   "metadata": {},
   "outputs": [],
   "source": []
  }
 ],
 "metadata": {
  "kernelspec": {
   "display_name": "Python 3",
   "language": "python",
   "name": "python3"
  },
  "language_info": {
   "codemirror_mode": {
    "name": "ipython",
    "version": 3
   },
   "file_extension": ".py",
   "mimetype": "text/x-python",
   "name": "python",
   "nbconvert_exporter": "python",
   "pygments_lexer": "ipython3",
   "version": "3.6.5"
  }
 },
 "nbformat": 4,
 "nbformat_minor": 2
}
